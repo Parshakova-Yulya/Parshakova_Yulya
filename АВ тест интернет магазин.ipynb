{
 "cells": [
  {
   "cell_type": "markdown",
   "metadata": {},
   "source": [
    "# Проверка гипотез для увеличения выручки интернет-магазина"
   ]
  },
  {
   "cell_type": "markdown",
   "metadata": {},
   "source": [
    "# Содержание\n",
    "**1 [Загружаем данные и готовим их к анализу](#1)**\n",
    "\n",
    "**2 [Приоритизация гипотез](#2)**\n",
    "\n",
    "**3 [Анализ A/B-теста](#3)**\n",
    "\n",
    "**3.1 [Создаем таблицы для оценки кумулятивных метрик](#31)**\n",
    "\n",
    "**3.2 [Строим график кумулятивной выручки по группам](#32)**\n",
    "\n",
    "**3.3 [Строим график кумулятивного среднего чека по группам](#33)**\n",
    "\n",
    "**3.4 [Строим график относительного изменения кумулятивного среднего чека группы B к группе A](#34)**\n",
    "\n",
    "**3.5 [Строим график кумулятивной конверсии по группам](#35)**\n",
    "\n",
    "**3.6 [Строим график относительного изменения кумулятивной конверсии группы B к группе А](#36)**\n",
    "\n",
    "**3.7 [Строим точечный график количества заказов по пользователям](#37)**\n",
    "\n",
    "**3.8 [Считаем 95-й и 99-й перцентили количества заказов на пользователя](#38)**\n",
    "\n",
    "**3.9 [Строим точечный график стоимостей заказов](#39)**\n",
    "\n",
    "**3.10 [Считаем 95-й и 99-й перцентили стоимости заказов](#310)**\n",
    "\n",
    "**3.11 [Считаем статистическую значимость различий в конверсии между группами по «сырым» данным](#311)**\n",
    "\n",
    "**3.12 [Считаем статистическую значимость различий в среднем чеке заказа между группами по «сырым» данным](#312)**\n",
    "\n",
    "**3.13 [Считаем статистическую значимость различий в конверсии между группами по «очищенным» данным](#313)**\n",
    "\n",
    "**3.14 [Считаем статистическую значимость различий в среднем чеке заказа между группами по «очищенным» данным](#314)**\n",
    "\n",
    "**4 [Выводы](#4)**"
   ]
  },
  {
   "cell_type": "code",
   "execution_count": 1,
   "metadata": {},
   "outputs": [],
   "source": [
    "import pandas as pd\n",
    "import matplotlib.pyplot as plt\n",
    "%matplotlib inline\n",
    "import seaborn as sns\n",
    "import datetime as dt\n",
    "import numpy as np\n",
    "import scipy.stats as stats"
   ]
  },
  {
   "cell_type": "markdown",
   "metadata": {},
   "source": [
    "<a id='1'></a>\n",
    "##  Загружаем данные и готовим их к анализу"
   ]
  },
  {
   "cell_type": "code",
   "execution_count": 2,
   "metadata": {},
   "outputs": [],
   "source": [
    "hypothesis=pd.read_csv('/datasets/hypothesis.csv')\n",
    "orders=pd.read_csv('/datasets/orders.csv')\n",
    "visitors=pd.read_csv('/datasets/visitors.csv')"
   ]
  },
  {
   "cell_type": "markdown",
   "metadata": {},
   "source": [
    "Исходя из предшествующего опыта, наиболее частые недочеты при составлении таблиц: заглавные буквы и пробелы в названии столбцов, создадим функцию, которая будет исправлять эти недочеты, подсчитывать количество явных дубликатов и выводить первые 5 строк таблицы и информацию о ней. "
   ]
  },
  {
   "cell_type": "code",
   "execution_count": 3,
   "metadata": {},
   "outputs": [],
   "source": [
    "def start(x):\n",
    "    x.columns=x.columns.str.lower()\n",
    "    x.columns.str.replace(\" \", \"_\")\n",
    "    return display(x.head()), print(x.info()), x.duplicated().sum()"
   ]
  },
  {
   "cell_type": "code",
   "execution_count": 4,
   "metadata": {},
   "outputs": [
    {
     "data": {
      "text/html": [
       "<div>\n",
       "<style scoped>\n",
       "    .dataframe tbody tr th:only-of-type {\n",
       "        vertical-align: middle;\n",
       "    }\n",
       "\n",
       "    .dataframe tbody tr th {\n",
       "        vertical-align: top;\n",
       "    }\n",
       "\n",
       "    .dataframe thead th {\n",
       "        text-align: right;\n",
       "    }\n",
       "</style>\n",
       "<table border=\"1\" class=\"dataframe\">\n",
       "  <thead>\n",
       "    <tr style=\"text-align: right;\">\n",
       "      <th></th>\n",
       "      <th>hypothesis</th>\n",
       "      <th>reach</th>\n",
       "      <th>impact</th>\n",
       "      <th>confidence</th>\n",
       "      <th>efforts</th>\n",
       "    </tr>\n",
       "  </thead>\n",
       "  <tbody>\n",
       "    <tr>\n",
       "      <th>0</th>\n",
       "      <td>Добавить два новых канала привлечения трафика,...</td>\n",
       "      <td>3</td>\n",
       "      <td>10</td>\n",
       "      <td>8</td>\n",
       "      <td>6</td>\n",
       "    </tr>\n",
       "    <tr>\n",
       "      <th>1</th>\n",
       "      <td>Запустить собственную службу доставки, что сок...</td>\n",
       "      <td>2</td>\n",
       "      <td>5</td>\n",
       "      <td>4</td>\n",
       "      <td>10</td>\n",
       "    </tr>\n",
       "    <tr>\n",
       "      <th>2</th>\n",
       "      <td>Добавить блоки рекомендаций товаров на сайт ин...</td>\n",
       "      <td>8</td>\n",
       "      <td>3</td>\n",
       "      <td>7</td>\n",
       "      <td>3</td>\n",
       "    </tr>\n",
       "    <tr>\n",
       "      <th>3</th>\n",
       "      <td>Изменить структура категорий, что увеличит кон...</td>\n",
       "      <td>8</td>\n",
       "      <td>3</td>\n",
       "      <td>3</td>\n",
       "      <td>8</td>\n",
       "    </tr>\n",
       "    <tr>\n",
       "      <th>4</th>\n",
       "      <td>Изменить цвет фона главной страницы, чтобы уве...</td>\n",
       "      <td>3</td>\n",
       "      <td>1</td>\n",
       "      <td>1</td>\n",
       "      <td>1</td>\n",
       "    </tr>\n",
       "  </tbody>\n",
       "</table>\n",
       "</div>"
      ],
      "text/plain": [
       "                                          hypothesis  reach  impact  \\\n",
       "0  Добавить два новых канала привлечения трафика,...      3      10   \n",
       "1  Запустить собственную службу доставки, что сок...      2       5   \n",
       "2  Добавить блоки рекомендаций товаров на сайт ин...      8       3   \n",
       "3  Изменить структура категорий, что увеличит кон...      8       3   \n",
       "4  Изменить цвет фона главной страницы, чтобы уве...      3       1   \n",
       "\n",
       "   confidence  efforts  \n",
       "0           8        6  \n",
       "1           4       10  \n",
       "2           7        3  \n",
       "3           3        8  \n",
       "4           1        1  "
      ]
     },
     "metadata": {},
     "output_type": "display_data"
    },
    {
     "name": "stdout",
     "output_type": "stream",
     "text": [
      "<class 'pandas.core.frame.DataFrame'>\n",
      "RangeIndex: 9 entries, 0 to 8\n",
      "Data columns (total 5 columns):\n",
      " #   Column      Non-Null Count  Dtype \n",
      "---  ------      --------------  ----- \n",
      " 0   hypothesis  9 non-null      object\n",
      " 1   reach       9 non-null      int64 \n",
      " 2   impact      9 non-null      int64 \n",
      " 3   confidence  9 non-null      int64 \n",
      " 4   efforts     9 non-null      int64 \n",
      "dtypes: int64(4), object(1)\n",
      "memory usage: 488.0+ bytes\n",
      "None\n"
     ]
    },
    {
     "data": {
      "text/plain": [
       "(None, None, 0)"
      ]
     },
     "execution_count": 4,
     "metadata": {},
     "output_type": "execute_result"
    }
   ],
   "source": [
    "start(hypothesis)"
   ]
  },
  {
   "cell_type": "code",
   "execution_count": 5,
   "metadata": {},
   "outputs": [
    {
     "data": {
      "text/html": [
       "<div>\n",
       "<style scoped>\n",
       "    .dataframe tbody tr th:only-of-type {\n",
       "        vertical-align: middle;\n",
       "    }\n",
       "\n",
       "    .dataframe tbody tr th {\n",
       "        vertical-align: top;\n",
       "    }\n",
       "\n",
       "    .dataframe thead th {\n",
       "        text-align: right;\n",
       "    }\n",
       "</style>\n",
       "<table border=\"1\" class=\"dataframe\">\n",
       "  <thead>\n",
       "    <tr style=\"text-align: right;\">\n",
       "      <th></th>\n",
       "      <th>transactionid</th>\n",
       "      <th>visitorid</th>\n",
       "      <th>date</th>\n",
       "      <th>revenue</th>\n",
       "      <th>group</th>\n",
       "    </tr>\n",
       "  </thead>\n",
       "  <tbody>\n",
       "    <tr>\n",
       "      <th>0</th>\n",
       "      <td>3667963787</td>\n",
       "      <td>3312258926</td>\n",
       "      <td>2019-08-15</td>\n",
       "      <td>1650</td>\n",
       "      <td>B</td>\n",
       "    </tr>\n",
       "    <tr>\n",
       "      <th>1</th>\n",
       "      <td>2804400009</td>\n",
       "      <td>3642806036</td>\n",
       "      <td>2019-08-15</td>\n",
       "      <td>730</td>\n",
       "      <td>B</td>\n",
       "    </tr>\n",
       "    <tr>\n",
       "      <th>2</th>\n",
       "      <td>2961555356</td>\n",
       "      <td>4069496402</td>\n",
       "      <td>2019-08-15</td>\n",
       "      <td>400</td>\n",
       "      <td>A</td>\n",
       "    </tr>\n",
       "    <tr>\n",
       "      <th>3</th>\n",
       "      <td>3797467345</td>\n",
       "      <td>1196621759</td>\n",
       "      <td>2019-08-15</td>\n",
       "      <td>9759</td>\n",
       "      <td>B</td>\n",
       "    </tr>\n",
       "    <tr>\n",
       "      <th>4</th>\n",
       "      <td>2282983706</td>\n",
       "      <td>2322279887</td>\n",
       "      <td>2019-08-15</td>\n",
       "      <td>2308</td>\n",
       "      <td>B</td>\n",
       "    </tr>\n",
       "  </tbody>\n",
       "</table>\n",
       "</div>"
      ],
      "text/plain": [
       "   transactionid   visitorid        date  revenue group\n",
       "0     3667963787  3312258926  2019-08-15     1650     B\n",
       "1     2804400009  3642806036  2019-08-15      730     B\n",
       "2     2961555356  4069496402  2019-08-15      400     A\n",
       "3     3797467345  1196621759  2019-08-15     9759     B\n",
       "4     2282983706  2322279887  2019-08-15     2308     B"
      ]
     },
     "metadata": {},
     "output_type": "display_data"
    },
    {
     "name": "stdout",
     "output_type": "stream",
     "text": [
      "<class 'pandas.core.frame.DataFrame'>\n",
      "RangeIndex: 1197 entries, 0 to 1196\n",
      "Data columns (total 5 columns):\n",
      " #   Column         Non-Null Count  Dtype \n",
      "---  ------         --------------  ----- \n",
      " 0   transactionid  1197 non-null   int64 \n",
      " 1   visitorid      1197 non-null   int64 \n",
      " 2   date           1197 non-null   object\n",
      " 3   revenue        1197 non-null   int64 \n",
      " 4   group          1197 non-null   object\n",
      "dtypes: int64(3), object(2)\n",
      "memory usage: 46.9+ KB\n",
      "None\n"
     ]
    },
    {
     "data": {
      "text/plain": [
       "(None, None, 0)"
      ]
     },
     "execution_count": 5,
     "metadata": {},
     "output_type": "execute_result"
    }
   ],
   "source": [
    "start(orders)"
   ]
  },
  {
   "cell_type": "markdown",
   "metadata": {},
   "source": [
    "В название столбцов с id лучше добавить нижнее подчеркивание.  "
   ]
  },
  {
   "cell_type": "code",
   "execution_count": 6,
   "metadata": {},
   "outputs": [],
   "source": [
    "orders= orders.rename(columns={'transactionid': 'transaction_id', 'visitorid': 'visitor_id'})\n"
   ]
  },
  {
   "cell_type": "code",
   "execution_count": 7,
   "metadata": {},
   "outputs": [
    {
     "data": {
      "text/html": [
       "<div>\n",
       "<style scoped>\n",
       "    .dataframe tbody tr th:only-of-type {\n",
       "        vertical-align: middle;\n",
       "    }\n",
       "\n",
       "    .dataframe tbody tr th {\n",
       "        vertical-align: top;\n",
       "    }\n",
       "\n",
       "    .dataframe thead th {\n",
       "        text-align: right;\n",
       "    }\n",
       "</style>\n",
       "<table border=\"1\" class=\"dataframe\">\n",
       "  <thead>\n",
       "    <tr style=\"text-align: right;\">\n",
       "      <th></th>\n",
       "      <th>date</th>\n",
       "      <th>group</th>\n",
       "      <th>visitors</th>\n",
       "    </tr>\n",
       "  </thead>\n",
       "  <tbody>\n",
       "    <tr>\n",
       "      <th>0</th>\n",
       "      <td>2019-08-01</td>\n",
       "      <td>A</td>\n",
       "      <td>719</td>\n",
       "    </tr>\n",
       "    <tr>\n",
       "      <th>1</th>\n",
       "      <td>2019-08-02</td>\n",
       "      <td>A</td>\n",
       "      <td>619</td>\n",
       "    </tr>\n",
       "    <tr>\n",
       "      <th>2</th>\n",
       "      <td>2019-08-03</td>\n",
       "      <td>A</td>\n",
       "      <td>507</td>\n",
       "    </tr>\n",
       "    <tr>\n",
       "      <th>3</th>\n",
       "      <td>2019-08-04</td>\n",
       "      <td>A</td>\n",
       "      <td>717</td>\n",
       "    </tr>\n",
       "    <tr>\n",
       "      <th>4</th>\n",
       "      <td>2019-08-05</td>\n",
       "      <td>A</td>\n",
       "      <td>756</td>\n",
       "    </tr>\n",
       "  </tbody>\n",
       "</table>\n",
       "</div>"
      ],
      "text/plain": [
       "         date group  visitors\n",
       "0  2019-08-01     A       719\n",
       "1  2019-08-02     A       619\n",
       "2  2019-08-03     A       507\n",
       "3  2019-08-04     A       717\n",
       "4  2019-08-05     A       756"
      ]
     },
     "metadata": {},
     "output_type": "display_data"
    },
    {
     "name": "stdout",
     "output_type": "stream",
     "text": [
      "<class 'pandas.core.frame.DataFrame'>\n",
      "RangeIndex: 62 entries, 0 to 61\n",
      "Data columns (total 3 columns):\n",
      " #   Column    Non-Null Count  Dtype \n",
      "---  ------    --------------  ----- \n",
      " 0   date      62 non-null     object\n",
      " 1   group     62 non-null     object\n",
      " 2   visitors  62 non-null     int64 \n",
      "dtypes: int64(1), object(2)\n",
      "memory usage: 1.6+ KB\n",
      "None\n"
     ]
    },
    {
     "data": {
      "text/plain": [
       "(None, None, 0)"
      ]
     },
     "execution_count": 7,
     "metadata": {},
     "output_type": "execute_result"
    }
   ],
   "source": [
    "start(visitors)\n"
   ]
  },
  {
   "cell_type": "markdown",
   "metadata": {},
   "source": [
    "Cтолбцы переименованы, дубликаты не найдены. Приведем значения столбцов с дата к типу 'datetime'."
   ]
  },
  {
   "cell_type": "code",
   "execution_count": 8,
   "metadata": {},
   "outputs": [
    {
     "name": "stdout",
     "output_type": "stream",
     "text": [
      "<class 'pandas.core.frame.DataFrame'>\n",
      "RangeIndex: 1197 entries, 0 to 1196\n",
      "Data columns (total 5 columns):\n",
      " #   Column          Non-Null Count  Dtype         \n",
      "---  ------          --------------  -----         \n",
      " 0   transaction_id  1197 non-null   int64         \n",
      " 1   visitor_id      1197 non-null   int64         \n",
      " 2   date            1197 non-null   datetime64[ns]\n",
      " 3   revenue         1197 non-null   int64         \n",
      " 4   group           1197 non-null   object        \n",
      "dtypes: datetime64[ns](1), int64(3), object(1)\n",
      "memory usage: 46.9+ KB\n",
      "None\n",
      "<class 'pandas.core.frame.DataFrame'>\n",
      "RangeIndex: 62 entries, 0 to 61\n",
      "Data columns (total 3 columns):\n",
      " #   Column    Non-Null Count  Dtype         \n",
      "---  ------    --------------  -----         \n",
      " 0   date      62 non-null     datetime64[ns]\n",
      " 1   group     62 non-null     object        \n",
      " 2   visitors  62 non-null     int64         \n",
      "dtypes: datetime64[ns](1), int64(1), object(1)\n",
      "memory usage: 1.6+ KB\n",
      "None\n"
     ]
    }
   ],
   "source": [
    "orders['date']=orders['date'].map(lambda x: dt.datetime.strptime(x, '%Y-%m-%d'))\n",
    "visitors['date']=visitors['date'].map(lambda x: dt.datetime.strptime(x, '%Y-%m-%d'))\n",
    "print(orders.info())\n",
    "print(visitors.info())            "
   ]
  },
  {
   "cell_type": "code",
   "execution_count": 9,
   "metadata": {},
   "outputs": [
    {
     "name": "stdout",
     "output_type": "stream",
     "text": [
      "['A' 'B']\n",
      "['B' 'A']\n"
     ]
    }
   ],
   "source": [
    "print(visitors['group'].unique())\n",
    "print(orders['group'].unique())"
   ]
  },
  {
   "cell_type": "markdown",
   "metadata": {},
   "source": [
    "Скрытых дубликатов в столбцах с обозначением групп нет. "
   ]
  },
  {
   "cell_type": "code",
   "execution_count": 10,
   "metadata": {},
   "outputs": [
    {
     "name": "stdout",
     "output_type": "stream",
     "text": [
      "Количество пользователей, включенных одновременно в обе группы = 58\n"
     ]
    }
   ],
   "source": [
    "a=orders.groupby('visitor_id', as_index=False).agg({'group': 'nunique'}).sort_values(by='group', ascending=False).query('group>1')\n",
    "print('Количество пользователей, включенных одновременно в обе группы =', a['visitor_id'].count())"
   ]
  },
  {
   "cell_type": "code",
   "execution_count": 11,
   "metadata": {},
   "outputs": [
    {
     "name": "stdout",
     "output_type": "stream",
     "text": [
      "Удаляем пользователей, входящих в обе группы:\n",
      "<class 'pandas.core.frame.DataFrame'>\n",
      "Int64Index: 1016 entries, 0 to 1196\n",
      "Data columns (total 5 columns):\n",
      " #   Column          Non-Null Count  Dtype         \n",
      "---  ------          --------------  -----         \n",
      " 0   transaction_id  1016 non-null   int64         \n",
      " 1   visitor_id      1016 non-null   int64         \n",
      " 2   date            1016 non-null   datetime64[ns]\n",
      " 3   revenue         1016 non-null   int64         \n",
      " 4   group           1016 non-null   object        \n",
      "dtypes: datetime64[ns](1), int64(3), object(1)\n",
      "memory usage: 47.6+ KB\n"
     ]
    }
   ],
   "source": [
    "\n",
    "print('Удаляем пользователей, входящих в обе группы:')\n",
    "a=a['visitor_id']\n",
    "\n",
    "orders=orders.query('visitor_id not in @a')\n",
    "orders.info()"
   ]
  },
  {
   "cell_type": "markdown",
   "metadata": {},
   "source": [
    "<a id='2'></a>\n",
    "##  Приоритизация гипотез"
   ]
  },
  {
   "cell_type": "markdown",
   "metadata": {},
   "source": [
    "Для приоретизации гипотез расчитаем ICE score и RICE score, добавим соответствующие столбцы в таблицу с данными о гипотезах. "
   ]
  },
  {
   "cell_type": "code",
   "execution_count": 12,
   "metadata": {},
   "outputs": [
    {
     "name": "stdout",
     "output_type": "stream",
     "text": [
      "<class 'pandas.core.frame.DataFrame'>\n",
      "RangeIndex: 9 entries, 0 to 8\n",
      "Data columns (total 5 columns):\n",
      " #   Column      Non-Null Count  Dtype \n",
      "---  ------      --------------  ----- \n",
      " 0   hypothesis  9 non-null      object\n",
      " 1   reach       9 non-null      int64 \n",
      " 2   impact      9 non-null      int64 \n",
      " 3   confidence  9 non-null      int64 \n",
      " 4   efforts     9 non-null      int64 \n",
      "dtypes: int64(4), object(1)\n",
      "memory usage: 488.0+ bytes\n"
     ]
    }
   ],
   "source": [
    "hypothesis.info()"
   ]
  },
  {
   "cell_type": "code",
   "execution_count": 13,
   "metadata": {},
   "outputs": [],
   "source": [
    "hypothesis['ice']=hypothesis['impact']*hypothesis['confidence']/hypothesis['efforts']\n",
    "hypothesis['rice']=hypothesis['impact']*hypothesis['confidence']*hypothesis['reach']/hypothesis['efforts']"
   ]
  },
  {
   "cell_type": "code",
   "execution_count": 14,
   "metadata": {},
   "outputs": [
    {
     "data": {
      "text/html": [
       "<div>\n",
       "<style scoped>\n",
       "    .dataframe tbody tr th:only-of-type {\n",
       "        vertical-align: middle;\n",
       "    }\n",
       "\n",
       "    .dataframe tbody tr th {\n",
       "        vertical-align: top;\n",
       "    }\n",
       "\n",
       "    .dataframe thead th {\n",
       "        text-align: right;\n",
       "    }\n",
       "</style>\n",
       "<table border=\"1\" class=\"dataframe\">\n",
       "  <thead>\n",
       "    <tr style=\"text-align: right;\">\n",
       "      <th></th>\n",
       "      <th>hypothesis</th>\n",
       "      <th>reach</th>\n",
       "      <th>impact</th>\n",
       "      <th>confidence</th>\n",
       "      <th>efforts</th>\n",
       "      <th>ice</th>\n",
       "      <th>rice</th>\n",
       "    </tr>\n",
       "  </thead>\n",
       "  <tbody>\n",
       "    <tr>\n",
       "      <th>0</th>\n",
       "      <td>Добавить два новых канала привлечения трафика,...</td>\n",
       "      <td>3</td>\n",
       "      <td>10</td>\n",
       "      <td>8</td>\n",
       "      <td>6</td>\n",
       "      <td>13.333333</td>\n",
       "      <td>40.0</td>\n",
       "    </tr>\n",
       "    <tr>\n",
       "      <th>1</th>\n",
       "      <td>Запустить собственную службу доставки, что сок...</td>\n",
       "      <td>2</td>\n",
       "      <td>5</td>\n",
       "      <td>4</td>\n",
       "      <td>10</td>\n",
       "      <td>2.000000</td>\n",
       "      <td>4.0</td>\n",
       "    </tr>\n",
       "    <tr>\n",
       "      <th>2</th>\n",
       "      <td>Добавить блоки рекомендаций товаров на сайт ин...</td>\n",
       "      <td>8</td>\n",
       "      <td>3</td>\n",
       "      <td>7</td>\n",
       "      <td>3</td>\n",
       "      <td>7.000000</td>\n",
       "      <td>56.0</td>\n",
       "    </tr>\n",
       "    <tr>\n",
       "      <th>3</th>\n",
       "      <td>Изменить структура категорий, что увеличит кон...</td>\n",
       "      <td>8</td>\n",
       "      <td>3</td>\n",
       "      <td>3</td>\n",
       "      <td>8</td>\n",
       "      <td>1.125000</td>\n",
       "      <td>9.0</td>\n",
       "    </tr>\n",
       "    <tr>\n",
       "      <th>4</th>\n",
       "      <td>Изменить цвет фона главной страницы, чтобы уве...</td>\n",
       "      <td>3</td>\n",
       "      <td>1</td>\n",
       "      <td>1</td>\n",
       "      <td>1</td>\n",
       "      <td>1.000000</td>\n",
       "      <td>3.0</td>\n",
       "    </tr>\n",
       "    <tr>\n",
       "      <th>5</th>\n",
       "      <td>Добавить страницу отзывов клиентов о магазине,...</td>\n",
       "      <td>3</td>\n",
       "      <td>2</td>\n",
       "      <td>2</td>\n",
       "      <td>3</td>\n",
       "      <td>1.333333</td>\n",
       "      <td>4.0</td>\n",
       "    </tr>\n",
       "    <tr>\n",
       "      <th>6</th>\n",
       "      <td>Показать на главной странице баннеры с актуаль...</td>\n",
       "      <td>5</td>\n",
       "      <td>3</td>\n",
       "      <td>8</td>\n",
       "      <td>3</td>\n",
       "      <td>8.000000</td>\n",
       "      <td>40.0</td>\n",
       "    </tr>\n",
       "    <tr>\n",
       "      <th>7</th>\n",
       "      <td>Добавить форму подписки на все основные страни...</td>\n",
       "      <td>10</td>\n",
       "      <td>7</td>\n",
       "      <td>8</td>\n",
       "      <td>5</td>\n",
       "      <td>11.200000</td>\n",
       "      <td>112.0</td>\n",
       "    </tr>\n",
       "    <tr>\n",
       "      <th>8</th>\n",
       "      <td>Запустить акцию, дающую скидку на товар в день...</td>\n",
       "      <td>1</td>\n",
       "      <td>9</td>\n",
       "      <td>9</td>\n",
       "      <td>5</td>\n",
       "      <td>16.200000</td>\n",
       "      <td>16.2</td>\n",
       "    </tr>\n",
       "  </tbody>\n",
       "</table>\n",
       "</div>"
      ],
      "text/plain": [
       "                                          hypothesis  reach  impact  \\\n",
       "0  Добавить два новых канала привлечения трафика,...      3      10   \n",
       "1  Запустить собственную службу доставки, что сок...      2       5   \n",
       "2  Добавить блоки рекомендаций товаров на сайт ин...      8       3   \n",
       "3  Изменить структура категорий, что увеличит кон...      8       3   \n",
       "4  Изменить цвет фона главной страницы, чтобы уве...      3       1   \n",
       "5  Добавить страницу отзывов клиентов о магазине,...      3       2   \n",
       "6  Показать на главной странице баннеры с актуаль...      5       3   \n",
       "7  Добавить форму подписки на все основные страни...     10       7   \n",
       "8  Запустить акцию, дающую скидку на товар в день...      1       9   \n",
       "\n",
       "   confidence  efforts        ice   rice  \n",
       "0           8        6  13.333333   40.0  \n",
       "1           4       10   2.000000    4.0  \n",
       "2           7        3   7.000000   56.0  \n",
       "3           3        8   1.125000    9.0  \n",
       "4           1        1   1.000000    3.0  \n",
       "5           2        3   1.333333    4.0  \n",
       "6           8        3   8.000000   40.0  \n",
       "7           8        5  11.200000  112.0  \n",
       "8           9        5  16.200000   16.2  "
      ]
     },
     "metadata": {},
     "output_type": "display_data"
    },
    {
     "data": {
      "text/html": [
       "<div>\n",
       "<style scoped>\n",
       "    .dataframe tbody tr th:only-of-type {\n",
       "        vertical-align: middle;\n",
       "    }\n",
       "\n",
       "    .dataframe tbody tr th {\n",
       "        vertical-align: top;\n",
       "    }\n",
       "\n",
       "    .dataframe thead th {\n",
       "        text-align: right;\n",
       "    }\n",
       "</style>\n",
       "<table border=\"1\" class=\"dataframe\">\n",
       "  <thead>\n",
       "    <tr style=\"text-align: right;\">\n",
       "      <th></th>\n",
       "      <th>hypothesis</th>\n",
       "      <th>ice</th>\n",
       "    </tr>\n",
       "  </thead>\n",
       "  <tbody>\n",
       "    <tr>\n",
       "      <th>8</th>\n",
       "      <td>Запустить акцию, дающую скидку на товар в день...</td>\n",
       "      <td>16.200000</td>\n",
       "    </tr>\n",
       "    <tr>\n",
       "      <th>0</th>\n",
       "      <td>Добавить два новых канала привлечения трафика,...</td>\n",
       "      <td>13.333333</td>\n",
       "    </tr>\n",
       "    <tr>\n",
       "      <th>7</th>\n",
       "      <td>Добавить форму подписки на все основные страни...</td>\n",
       "      <td>11.200000</td>\n",
       "    </tr>\n",
       "    <tr>\n",
       "      <th>6</th>\n",
       "      <td>Показать на главной странице баннеры с актуаль...</td>\n",
       "      <td>8.000000</td>\n",
       "    </tr>\n",
       "    <tr>\n",
       "      <th>2</th>\n",
       "      <td>Добавить блоки рекомендаций товаров на сайт ин...</td>\n",
       "      <td>7.000000</td>\n",
       "    </tr>\n",
       "    <tr>\n",
       "      <th>1</th>\n",
       "      <td>Запустить собственную службу доставки, что сок...</td>\n",
       "      <td>2.000000</td>\n",
       "    </tr>\n",
       "    <tr>\n",
       "      <th>5</th>\n",
       "      <td>Добавить страницу отзывов клиентов о магазине,...</td>\n",
       "      <td>1.333333</td>\n",
       "    </tr>\n",
       "    <tr>\n",
       "      <th>3</th>\n",
       "      <td>Изменить структура категорий, что увеличит кон...</td>\n",
       "      <td>1.125000</td>\n",
       "    </tr>\n",
       "    <tr>\n",
       "      <th>4</th>\n",
       "      <td>Изменить цвет фона главной страницы, чтобы уве...</td>\n",
       "      <td>1.000000</td>\n",
       "    </tr>\n",
       "  </tbody>\n",
       "</table>\n",
       "</div>"
      ],
      "text/plain": [
       "                                          hypothesis        ice\n",
       "8  Запустить акцию, дающую скидку на товар в день...  16.200000\n",
       "0  Добавить два новых канала привлечения трафика,...  13.333333\n",
       "7  Добавить форму подписки на все основные страни...  11.200000\n",
       "6  Показать на главной странице баннеры с актуаль...   8.000000\n",
       "2  Добавить блоки рекомендаций товаров на сайт ин...   7.000000\n",
       "1  Запустить собственную службу доставки, что сок...   2.000000\n",
       "5  Добавить страницу отзывов клиентов о магазине,...   1.333333\n",
       "3  Изменить структура категорий, что увеличит кон...   1.125000\n",
       "4  Изменить цвет фона главной страницы, чтобы уве...   1.000000"
      ]
     },
     "metadata": {},
     "output_type": "display_data"
    },
    {
     "data": {
      "text/html": [
       "<div>\n",
       "<style scoped>\n",
       "    .dataframe tbody tr th:only-of-type {\n",
       "        vertical-align: middle;\n",
       "    }\n",
       "\n",
       "    .dataframe tbody tr th {\n",
       "        vertical-align: top;\n",
       "    }\n",
       "\n",
       "    .dataframe thead th {\n",
       "        text-align: right;\n",
       "    }\n",
       "</style>\n",
       "<table border=\"1\" class=\"dataframe\">\n",
       "  <thead>\n",
       "    <tr style=\"text-align: right;\">\n",
       "      <th></th>\n",
       "      <th>hypothesis</th>\n",
       "      <th>rice</th>\n",
       "    </tr>\n",
       "  </thead>\n",
       "  <tbody>\n",
       "    <tr>\n",
       "      <th>7</th>\n",
       "      <td>Добавить форму подписки на все основные страни...</td>\n",
       "      <td>112.0</td>\n",
       "    </tr>\n",
       "    <tr>\n",
       "      <th>2</th>\n",
       "      <td>Добавить блоки рекомендаций товаров на сайт ин...</td>\n",
       "      <td>56.0</td>\n",
       "    </tr>\n",
       "    <tr>\n",
       "      <th>0</th>\n",
       "      <td>Добавить два новых канала привлечения трафика,...</td>\n",
       "      <td>40.0</td>\n",
       "    </tr>\n",
       "    <tr>\n",
       "      <th>6</th>\n",
       "      <td>Показать на главной странице баннеры с актуаль...</td>\n",
       "      <td>40.0</td>\n",
       "    </tr>\n",
       "    <tr>\n",
       "      <th>8</th>\n",
       "      <td>Запустить акцию, дающую скидку на товар в день...</td>\n",
       "      <td>16.2</td>\n",
       "    </tr>\n",
       "    <tr>\n",
       "      <th>3</th>\n",
       "      <td>Изменить структура категорий, что увеличит кон...</td>\n",
       "      <td>9.0</td>\n",
       "    </tr>\n",
       "    <tr>\n",
       "      <th>1</th>\n",
       "      <td>Запустить собственную службу доставки, что сок...</td>\n",
       "      <td>4.0</td>\n",
       "    </tr>\n",
       "    <tr>\n",
       "      <th>5</th>\n",
       "      <td>Добавить страницу отзывов клиентов о магазине,...</td>\n",
       "      <td>4.0</td>\n",
       "    </tr>\n",
       "    <tr>\n",
       "      <th>4</th>\n",
       "      <td>Изменить цвет фона главной страницы, чтобы уве...</td>\n",
       "      <td>3.0</td>\n",
       "    </tr>\n",
       "  </tbody>\n",
       "</table>\n",
       "</div>"
      ],
      "text/plain": [
       "                                          hypothesis   rice\n",
       "7  Добавить форму подписки на все основные страни...  112.0\n",
       "2  Добавить блоки рекомендаций товаров на сайт ин...   56.0\n",
       "0  Добавить два новых канала привлечения трафика,...   40.0\n",
       "6  Показать на главной странице баннеры с актуаль...   40.0\n",
       "8  Запустить акцию, дающую скидку на товар в день...   16.2\n",
       "3  Изменить структура категорий, что увеличит кон...    9.0\n",
       "1  Запустить собственную службу доставки, что сок...    4.0\n",
       "5  Добавить страницу отзывов клиентов о магазине,...    4.0\n",
       "4  Изменить цвет фона главной страницы, чтобы уве...    3.0"
      ]
     },
     "metadata": {},
     "output_type": "display_data"
    }
   ],
   "source": [
    "display(hypothesis)\n",
    "display(hypothesis[['hypothesis', 'ice']].sort_values(by='ice', ascending=False))\n",
    "display(hypothesis[['hypothesis', 'rice']].sort_values(by='rice', ascending=False))"
   ]
  },
  {
   "cell_type": "markdown",
   "metadata": {},
   "source": [
    "**Вывод:** Перспективными по шкале ICE гипотезами являются 8, 0, 7. По шкале RICE на первом месте оказывается 7 гипотеза, так как она охватывает максимальное количество пользователей. Далее идут гипотезы 2, 0, 6. В первую очередь следует проверить гипотезы 7 и 0, которые входят в первые три ранга по обеим шкалам. "
   ]
  },
  {
   "cell_type": "markdown",
   "metadata": {},
   "source": [
    "<a id='3'></a>\n",
    "##  Анализ A/B-теста"
   ]
  },
  {
   "cell_type": "markdown",
   "metadata": {},
   "source": [
    "<a id='31'></a>\n",
    "###  Создаем таблицы для оценки кумулятивных метрик"
   ]
  },
  {
   "cell_type": "code",
   "execution_count": 15,
   "metadata": {},
   "outputs": [],
   "source": [
    "# Создаем датафрейм datesGroups с уникальными парами значений 'date' и 'group', таблицы orders. \n",
    "# Избавляемся от дубликатов \n",
    "\n",
    "datesGroups = orders[['date','group']].drop_duplicates() \n",
    "\n",
    "# Создаем таблицу ordersAggregated, содержащую дату, группу A/B-теста, число уникальных заказов в группе теста \n",
    "# число уникальных пользователей, совершивших хотя бы 1 заказ в группе теста;\n",
    "#суммарную выручку заказов в группе теста, ограничим даты анализа. \n",
    "\n",
    "ordersAggregated = datesGroups.apply(\n",
    "    lambda x: orders[np.logical_and(orders['date'] <= x['date'], orders['group'] == x['group'])].agg({\n",
    "'date' : 'max',\n",
    "'group' : 'max',\n",
    "'transaction_id' : pd.Series.nunique,\n",
    "'visitor_id' : pd.Series.nunique,\n",
    "'revenue' : 'sum'}), axis=1).sort_values(by=['date','group'])\n",
    "\n",
    "# Создаем таблицу visitorsAggregated, содержащую дату, группу A/B-теста, количество уникальных посетителей \n",
    "# в группе теста по указанную дату включительно.\n",
    "\n",
    "visitorsAggregated = (datesGroups.apply(lambda x: visitors[np.logical_and(visitors['date'] <= x['date'], \n",
    "                                                                         visitors['group'] == x['group'])]\n",
    "                                       .agg({'date' : 'max', 'group' : 'max', 'visitors' : 'sum'}), axis=1)\n",
    "                                       .sort_values(by=['date','group'])) \n",
    "\n",
    "# объединяем ordersAggregated и visitorsAggregated по колонкам 'date', 'group' методом merge() \n",
    "# в переменную cumulativeData\n",
    "\n",
    "cumulativeData = ordersAggregated.merge(visitorsAggregated, left_on=['date', 'group'], right_on=['date', 'group'])\n",
    "\n",
    "cumulativeData.columns = ['date', 'group', 'orders', 'buyers', 'revenue', 'visitors']\n",
    "\n",
    "# объявляем переменные в которых сохраняем данные по группам\n",
    "\n",
    "cumulativeRevenueA = cumulativeData[cumulativeData['group']=='A'][['date','revenue', 'orders']]\n",
    "cumulativeRevenueB= cumulativeData[cumulativeData['group']=='B'][['date','revenue', 'orders']]"
   ]
  },
  {
   "cell_type": "markdown",
   "metadata": {},
   "source": [
    "<a id='32'></a>\n",
    "### Строим график кумулятивной выручки по группам"
   ]
  },
  {
   "cell_type": "code",
   "execution_count": 16,
   "metadata": {},
   "outputs": [
    {
     "data": {
      "image/png": "[encoded data removed]",
      "text/plain": [
       "<Figure size 720x360 with 1 Axes>"
      ]
     },
     "metadata": {
      "needs_background": "light"
     },
     "output_type": "display_data"
    }
   ],
   "source": [
    "plt.figure(figsize=(10, 5))\n",
    "plt.plot(cumulativeRevenueA['date'], cumulativeRevenueA['revenue'], label='A')\n",
    "plt.plot(cumulativeRevenueB['date'], cumulativeRevenueB['revenue'], label='B')\n",
    "plt.grid=True\n",
    "plt.xlabel('Дата') \n",
    "plt.ylabel('Кумулятивная выручка') \n",
    "plt.title('Кумулятивная выручка по дням и группам A/B-тестирования')\n",
    "plt.legend()\n",
    "plt.show()"
   ]
  },
  {
   "cell_type": "markdown",
   "metadata": {},
   "source": [
    "**Вывод:** Выручка увеличивается в течение всего теста - это хорошо. График выручки в **группе A** в течение всего теста увеличивается относительно равномерно. График выручки в **группе B** резко возрастает 17 августа, это может быть связано с резким увеличением числа заказов или  о появлении очень дорогих заказов в выборке. "
   ]
  },
  {
   "cell_type": "markdown",
   "metadata": {},
   "source": [
    "<a id='33'></a>\n",
    "### Строим график кумулятивного среднего чека по группам"
   ]
  },
  {
   "cell_type": "code",
   "execution_count": 17,
   "metadata": {},
   "outputs": [
    {
     "data": {
      "image/png": "[encoded data removed]",
      "text/plain": [
       "<Figure size 864x360 with 1 Axes>"
      ]
     },
     "metadata": {
      "needs_background": "light"
     },
     "output_type": "display_data"
    }
   ],
   "source": [
    "plt.figure(figsize=(12, 5))\n",
    "plt.plot(cumulativeRevenueA['date'], cumulativeRevenueA['revenue']/cumulativeRevenueA['orders'], label='A')\n",
    "plt.plot(cumulativeRevenueB['date'], cumulativeRevenueB['revenue']/cumulativeRevenueB['orders'], label='B')\n",
    "plt.grid=True\n",
    "plt.xlabel('Дата') \n",
    "plt.ylabel('Кумулятивная стоимость среднего чека') \n",
    "plt.title('Стоимость кумулятивного среднего чека по дням и группам A/B-тестирования')\n",
    "plt.legend()\n",
    "plt.show()\n"
   ]
  },
  {
   "cell_type": "markdown",
   "metadata": {},
   "source": [
    "**Вывод:** Средний чек растет с начала до середины теста. 17 августа мы видим резкое увеличение стоимости среднего чека  в **группе B** - вероятно в это время значительно увеличивается стоимость покупок, в дальнейшем средний чек незначительно снижается, при этом средний чек за период наблюдения так и не устанавливается на одном уровне. В **группе А** так же заметен подъем стоимости среднего чека в районе 13 августа, но подъем не настолько значительный, как в группе В, и сразу же снижается, что скорее всего связано с появлением дорогих покупок в этот период.  Для **группы A** средний чек  увеличивается ближе к концу периода наблюдения и можно предположить его стабилизацию в период с 29 августа.  "
   ]
  },
  {
   "cell_type": "markdown",
   "metadata": {},
   "source": [
    "<a id='34'></a>\n",
    "### Строим  график относительного изменения кумулятивного среднего чека группы B к группе A"
   ]
  },
  {
   "cell_type": "code",
   "execution_count": 18,
   "metadata": {},
   "outputs": [
    {
     "data": {
      "image/png": "[encoded data removed]",
      "text/plain": [
       "<Figure size 864x360 with 1 Axes>"
      ]
     },
     "metadata": {
      "needs_background": "light"
     },
     "output_type": "display_data"
    }
   ],
   "source": [
    "# собираем данные в одном датафрейме\n",
    "mergedCumulativeRevenue = cumulativeRevenueA.merge(cumulativeRevenueB, left_on='date', right_on='date', how='left', suffixes=['A', 'B'])\n",
    "\n",
    "plt.figure(figsize=(12, 5))\n",
    "plt.plot(mergedCumulativeRevenue['date'], (mergedCumulativeRevenue['revenueB']/mergedCumulativeRevenue['ordersB'])/(mergedCumulativeRevenue['revenueA']/mergedCumulativeRevenue['ordersA'])-1)\n",
    "plt.axhline(y=0, color='black', linestyle='--') \n",
    "plt.grid=True\n",
    "plt.xlabel('Дата') \n",
    "plt.ylabel('Относительное изменение кумулятивного среднего чека') \n",
    "plt.title('Относительное изменение кумулятивного среднего чека группы B к группе A')\n",
    "plt.show()"
   ]
  },
  {
   "cell_type": "markdown",
   "metadata": {},
   "source": [
    "**Выводы:** В нескольких точках график различия между сегментами резко «скачет». Можно предположить наличие крупных заказов и выбросов. "
   ]
  },
  {
   "cell_type": "markdown",
   "metadata": {},
   "source": [
    "<a id='35'></a>\n",
    "### Строим график кумулятивной конверсии по группам"
   ]
  },
  {
   "cell_type": "code",
   "execution_count": 19,
   "metadata": {},
   "outputs": [
    {
     "data": {
      "image/png": "[encoded data removed]",
      "text/plain": [
       "<Figure size 864x360 with 1 Axes>"
      ]
     },
     "metadata": {
      "needs_background": "light"
     },
     "output_type": "display_data"
    }
   ],
   "source": [
    "# считаем кумулятивную конверсию\n",
    "cumulativeData['conversion'] = cumulativeData['orders']/cumulativeData['visitors']\n",
    "\n",
    "# отделяем данные по группе A\n",
    "cumulativeDataA = cumulativeData[cumulativeData['group']=='A']\n",
    "\n",
    "# отделяем данные по группе B\n",
    "cumulativeDataB = cumulativeData[cumulativeData['group']=='B']\n",
    "\n",
    "# строим графики\n",
    "plt.figure(figsize=(12, 5))\n",
    "plt.plot(cumulativeDataA['date'], cumulativeDataA['conversion'], label='A')\n",
    "plt.plot(cumulativeDataB['date'], cumulativeDataB['conversion'], label='B')\n",
    "plt.legend()\n",
    "plt.xlabel('Дата') \n",
    "plt.ylabel('Кумулятивная конверсия') \n",
    "plt.title('Кумулятивная конверсия по дням и группам A/B-тестирования')\n",
    "plt.legend()\n",
    "plt.show()\n",
    "# задаем масштаб осей\n",
    "\n"
   ]
  },
  {
   "cell_type": "markdown",
   "metadata": {},
   "source": [
    "**Вывод** График сложно назвать симметричным. Конверсия в **группе А** снижается на протяжении всего периода наблюдения, а на графике конверсии в **группе B** в начале исследования мы видим резкое кратковременное падение, а затем рост конверсии с последующим незначительным снижением. "
   ]
  },
  {
   "cell_type": "markdown",
   "metadata": {},
   "source": [
    "<a id='36'></a>\n",
    "### Строим график относительного изменения кумулятивной конверсии группы B к группе А"
   ]
  },
  {
   "cell_type": "code",
   "execution_count": 20,
   "metadata": {},
   "outputs": [
    {
     "data": {
      "image/png": "[encoded data removed]",
      "text/plain": [
       "<Figure size 864x360 with 1 Axes>"
      ]
     },
     "metadata": {
      "needs_background": "light"
     },
     "output_type": "display_data"
    }
   ],
   "source": [
    "mergedCumulativeConversions = cumulativeDataA[['date','conversion']].merge(cumulativeDataB[['date','conversion']], left_on='date', right_on='date', how='left', suffixes=['A', 'B'])\n",
    "plt.figure(figsize=(12, 5))\n",
    "plt.plot(mergedCumulativeConversions['date'], mergedCumulativeConversions['conversionB']/mergedCumulativeConversions['conversionA']-1, label=\"Относительный прирост конверсии группы B относительно группы A\")\n",
    "plt.xlabel('Дата') \n",
    "plt.ylabel('Относительное изменение кумулятивной конверсии') \n",
    "plt.title('относительное изменение кумулятивной конверсии группы B к группе А')\n",
    "plt.axhline(y=0, color='black', linestyle='--')\n",
    "plt.axhline(y=-0.1, color='grey', linestyle='--')\n",
    "#plt.axis([\"2019-04-01\", '2019-04-23', -0.6, 0.6]) \n",
    "plt.legend()\n",
    "plt.show()\n"
   ]
  },
  {
   "cell_type": "markdown",
   "metadata": {},
   "source": [
    "**Вывод:** В начале теста **группа B** значительно проигрывала **группе A**, затем вырвалась вперёд и в дальнейшем ниже конверсии в группе А не устанавливалась. "
   ]
  },
  {
   "cell_type": "markdown",
   "metadata": {},
   "source": [
    "<div class=\"alert alert-success\">\n",
    "<h2> Комментарий ревьюера<a class=\"tocSkip\"> </h2>\n",
    "\n",
    "<b>Все отлично!👍:</b>\n",
    "    \n",
    "Графики выглядят корректно, согласна с интерпретацией визуализации."
   ]
  },
  {
   "cell_type": "markdown",
   "metadata": {},
   "source": [
    "<a id='37'></a>\n",
    "### Строим точечный график количества заказов по пользователям"
   ]
  },
  {
   "cell_type": "code",
   "execution_count": 21,
   "metadata": {},
   "outputs": [
    {
     "name": "stdout",
     "output_type": "stream",
     "text": [
      "     visitor_id  orders\n",
      "908  3967698036       3\n",
      "55    249864742       3\n",
      "478  2108163459       3\n",
      "687  2988190573       3\n",
      "890  3908431265       3\n",
      "138   611059232       3\n",
      "632  2742574263       3\n",
      "157   678354126       2\n",
      "323  1404560065       2\n",
      "452  1985475298       2\n"
     ]
    },
    {
     "data": {
      "image/png": "[encoded data removed]",
      "text/plain": [
       "<Figure size 864x360 with 1 Axes>"
      ]
     },
     "metadata": {
      "needs_background": "light"
     },
     "output_type": "display_data"
    }
   ],
   "source": [
    "\n",
    "\n",
    "ordersByUsers = (\n",
    "    orders.groupby('visitor_id', as_index=False)\n",
    "    .agg({'transaction_id': 'nunique'})\n",
    ")\n",
    "\n",
    "ordersByUsers.columns = ['visitor_id', 'orders']\n",
    "\n",
    "print(ordersByUsers.sort_values(by='orders', ascending=False).head(10)) \n",
    "\n",
    "\n",
    "x_values = pd.Series(range(0,len(ordersByUsers)))\n",
    "plt.figure(figsize=(12, 5))\n",
    "plt.scatter(x_values, ordersByUsers['orders']) \n",
    "plt.ylabel('Количество заказов') \n",
    "plt.title('Количество заказов по пользователям')\n",
    "plt.show()"
   ]
  },
  {
   "cell_type": "markdown",
   "metadata": {},
   "source": [
    "**Выводы:** Мы видим много пользователей с 2-4 заказами. Их точная доля не ясна — непонятно, считать их аномалиями или нет. "
   ]
  },
  {
   "cell_type": "markdown",
   "metadata": {},
   "source": [
    "<a id='38'></a>\n",
    "### Считаем 95-й и 99-й перцентили количества заказов на пользователя"
   ]
  },
  {
   "cell_type": "code",
   "execution_count": 22,
   "metadata": {},
   "outputs": [
    {
     "name": "stdout",
     "output_type": "stream",
     "text": [
      "[1. 2.]\n"
     ]
    }
   ],
   "source": [
    "\n",
    "print(np.percentile(ordersByUsers['orders'], [ 95, 99])) "
   ]
  },
  {
   "cell_type": "markdown",
   "metadata": {},
   "source": [
    "**Вывод** Не более 5% пользователей осуществляют более 2 покупок. Более 2, но менее 4 покупок осуществляют всего 4% пользователей.  Таким образом 2 заказа на одного пользователя принимаем за  границу числа заказов."
   ]
  },
  {
   "cell_type": "markdown",
   "metadata": {},
   "source": [
    "<a id='39'></a>\n",
    "### Строим точечный график стоимостей заказов"
   ]
  },
  {
   "cell_type": "code",
   "execution_count": 23,
   "metadata": {},
   "outputs": [
    {
     "data": {
      "image/png": "[encoded data removed]",
      "text/plain": [
       "<Figure size 360x720 with 1 Axes>"
      ]
     },
     "metadata": {
      "needs_background": "light"
     },
     "output_type": "display_data"
    }
   ],
   "source": [
    "x_values = pd.Series(range(0,len(orders['revenue'])))\n",
    "\n",
    "plt.figure(figsize=(5, 10))\n",
    "plt.scatter(x_values, orders['revenue'])\n",
    "plt.ylabel('Стоимость заказов') \n",
    "plt.title('Распределение стоимости заказов')\n",
    "plt.show()\n"
   ]
  },
  {
   "cell_type": "markdown",
   "metadata": {},
   "source": [
    "При построении графика возникли проблемы, максимальная выручка заказа превышает 1,2 млн. Следующее выпадающее значение на уровне 200 тысяч. \n",
    "Ограничим ось Y максимальным значением в 250 тысяч и посмотрим, что получилось. "
   ]
  },
  {
   "cell_type": "code",
   "execution_count": 24,
   "metadata": {},
   "outputs": [
    {
     "data": {
      "image/png": "[encoded data removed]",
      "text/plain": [
       "<Figure size 360x720 with 1 Axes>"
      ]
     },
     "metadata": {
      "needs_background": "light"
     },
     "output_type": "display_data"
    }
   ],
   "source": [
    "x_values = pd.Series(range(0,len(orders['revenue'])))\n",
    "\n",
    "plt.figure(figsize=(5, 10))\n",
    "plt.scatter(x_values, orders['revenue'])\n",
    "plt.ylabel('Стоимость заказов') \n",
    "plt.title('Распределение стоимости заказов')\n",
    "plt.ylim((0,250000))\n",
    "plt.show()"
   ]
  },
  {
   "cell_type": "markdown",
   "metadata": {},
   "source": [
    "Теперь мы видим, что выручка большинства заказов находится в пределах 25000. "
   ]
  },
  {
   "cell_type": "markdown",
   "metadata": {},
   "source": [
    "<a id='310'></a>\n",
    "### Считаем 95-й и 99-й перцентили стоимости заказов"
   ]
  },
  {
   "cell_type": "code",
   "execution_count": 25,
   "metadata": {},
   "outputs": [
    {
     "name": "stdout",
     "output_type": "stream",
     "text": [
      "[26785. 53904.]\n"
     ]
    }
   ],
   "source": [
    "print(np.percentile(orders['revenue'], [95, 99])) "
   ]
  },
  {
   "cell_type": "markdown",
   "metadata": {},
   "source": [
    "**Вывод:**  Выручка 95% заказов не превышает 28000, выручка 99% заказов не превышает 58234. 28000 принимаем за  границу выручки с заказа."
   ]
  },
  {
   "cell_type": "markdown",
   "metadata": {},
   "source": [
    "<a id='311'></a>\n",
    "### Считаем статистическую значимость различий в конверсии между группами по «сырым» данным "
   ]
  },
  {
   "cell_type": "markdown",
   "metadata": {},
   "source": [
    "Сформулируем гипотезы:\n",
    "\n",
    "**Нулевая:** Различий в конверсии между группами нет. \n",
    "\n",
    "**Альтернативная:** различия в конверсии между группами есть."
   ]
  },
  {
   "cell_type": "code",
   "execution_count": 26,
   "metadata": {},
   "outputs": [],
   "source": [
    "#подготовим данные для анализа\n",
    "visitorsADaily = visitors[visitors['group'] == 'A'][['date', 'visitors']]\n",
    "visitorsADaily.columns = ['date', 'visitorsPerDateA']\n",
    "\n",
    "visitorsACummulative = visitorsADaily.apply(\n",
    "    lambda x: visitorsADaily[visitorsADaily['date'] <= x['date']].agg(\n",
    "        {'date': 'max', 'visitorsPerDateA': 'sum'}\n",
    "    ),\n",
    "    axis=1,\n",
    ")\n",
    "visitorsACummulative.columns = ['date', 'visitorsCummulativeA']\n",
    "\n",
    "visitorsBDaily = visitors[visitors['group'] == 'B'][['date', 'visitors']]\n",
    "visitorsBDaily.columns = ['date', 'visitorsPerDateB']\n",
    "\n",
    "visitorsBCummulative = visitorsBDaily.apply(\n",
    "    lambda x: visitorsBDaily[visitorsBDaily['date'] <= x['date']].agg(\n",
    "        {'date': 'max', 'visitorsPerDateB': 'sum'}\n",
    "    ),\n",
    "    axis=1,\n",
    ")\n",
    "visitorsBCummulative.columns = ['date', 'visitorsCummulativeB']\n",
    "\n",
    "ordersADaily = (\n",
    "    orders[orders['group'] == 'A'][['date', 'transaction_id', 'visitor_id', 'revenue']]\n",
    "    .groupby('date', as_index=False)\n",
    "    .agg({'transaction_id': pd.Series.nunique, 'revenue': 'sum'})\n",
    ")\n",
    "ordersADaily.columns = ['date', 'ordersPerDateA', 'revenuePerDateA']\n",
    "\n",
    "ordersACummulative = ordersADaily.apply(\n",
    "    lambda x: ordersADaily[ordersADaily['date'] <= x['date']].agg(\n",
    "        {'date': 'max', 'ordersPerDateA': 'sum', 'revenuePerDateA': 'sum'}\n",
    "    ),\n",
    "    axis=1,\n",
    ").sort_values(by=['date'])\n",
    "ordersACummulative.columns = [\n",
    "    'date',\n",
    "    'ordersCummulativeA',\n",
    "    'revenueCummulativeA',\n",
    "]\n",
    "\n",
    "ordersBDaily = (\n",
    "    orders[orders['group'] == 'B'][['date', 'transaction_id', 'visitor_id', 'revenue']]\n",
    "    .groupby('date', as_index=False)\n",
    "    .agg({'transaction_id': pd.Series.nunique, 'revenue': 'sum'})\n",
    ")\n",
    "ordersBDaily.columns = ['date', 'ordersPerDateB', 'revenuePerDateB']\n",
    "\n",
    "ordersBCummulative = ordersBDaily.apply(\n",
    "    lambda x: ordersBDaily[ordersBDaily['date'] <= x['date']].agg(\n",
    "        {'date': 'max', 'ordersPerDateB': 'sum', 'revenuePerDateB': 'sum'}\n",
    "    ),\n",
    "    axis=1,\n",
    ").sort_values(by=['date'])\n",
    "ordersBCummulative.columns = [\n",
    "    'date',\n",
    "    'ordersCummulativeB',\n",
    "    'revenueCummulativeB',\n",
    "]\n",
    "\n",
    "data = (\n",
    "    ordersADaily.merge(\n",
    "        ordersBDaily, left_on='date', right_on='date', how='left'\n",
    "    )\n",
    "    .merge(ordersACummulative, left_on='date', right_on='date', how='left')\n",
    "    .merge(ordersBCummulative, left_on='date', right_on='date', how='left')\n",
    "    .merge(visitorsADaily, left_on='date', right_on='date', how='left')\n",
    "    .merge(visitorsBDaily, left_on='date', right_on='date', how='left')\n",
    "    .merge(visitorsACummulative, left_on='date', right_on='date', how='left')\n",
    "    .merge(visitorsBCummulative, left_on='date', right_on='date', how='left')\n",
    ")\n",
    "ordersByUsersA = (\n",
    "    orders[orders['group'] == 'A']\n",
    "    .groupby('visitor_id', as_index=False)\n",
    "    .agg({'transaction_id': pd.Series.nunique})\n",
    ")\n",
    "ordersByUsersA.columns = ['visitor_id', 'orders']\n",
    "\n",
    "ordersByUsersB = (\n",
    "    orders[orders['group'] == 'B']\n",
    "    .groupby('visitor_id', as_index=False)\n",
    "    .agg({'transaction_id': pd.Series.nunique})\n",
    ")\n",
    "ordersByUsersB.columns = ['visitor_id', 'orders'] \n",
    "\n",
    "#Объявляем переменные sampleA и sampleB, в которых пользователям из разных групп будет соответствовать \n",
    "#количество заказов, для пользователей, которые ничего не заказали количество заказов будет равно 0.  \n",
    "sampleA = pd.concat([ordersByUsersA['orders'],\n",
    "                      pd.Series(0, index=np.arange(data['visitorsPerDateA']\n",
    "                      .sum() - len(ordersByUsersA['orders'])), name='orders')],axis=0)\n",
    "\n",
    "sampleB = pd.concat([ordersByUsersB['orders'],\n",
    "                      pd.Series(0, index=np.arange(data['visitorsPerDateB']\n",
    "                      .sum() - len(ordersByUsersB['orders'])), name='orders')],axis=0)\n",
    "\n",
    "#Теперь выборки готовы к проверке критерием Манна-Уитни.\n"
   ]
  },
  {
   "cell_type": "code",
   "execution_count": 27,
   "metadata": {},
   "outputs": [
    {
     "name": "stdout",
     "output_type": "stream",
     "text": [
      "p-value=0.011\n",
      "относительные различия в конверсии: 0.160\n"
     ]
    }
   ],
   "source": [
    "print('p-value='\"{0:.3f}\".format(stats.mannwhitneyu(sampleA, sampleB)[1]))\n",
    "\n",
    "print('относительные различия в конверсии: '\"{0:.3f}\".format(sampleB.mean() / sampleA.mean() - 1))"
   ]
  },
  {
   "cell_type": "markdown",
   "metadata": {},
   "source": [
    "**Вывод:** p-value = 0.017, что меньше 0.05. Значит, нулевую гипотезу о том, что статистически значимых различий в конверсии между группами нет, отвергаем. Oтносительный выигрыш группы B равен 13,8% — второе число в выводе.  "
   ]
  },
  {
   "cell_type": "markdown",
   "metadata": {},
   "source": [
    "<a id='312'></a>\n",
    "### Считаем статистическую значимость различий в среднем чеке заказа между группами по «сырым» данным"
   ]
  },
  {
   "cell_type": "markdown",
   "metadata": {},
   "source": [
    "Сформулируем гипотезы:\n",
    "\n",
    "**Нулевая гипотеза:** различий в среднем чеке между группами нет. \n",
    "\n",
    "**Альтернативная гипотеза:** различия в среднем чеке между группами есть. "
   ]
  },
  {
   "cell_type": "code",
   "execution_count": 28,
   "metadata": {},
   "outputs": [
    {
     "name": "stdout",
     "output_type": "stream",
     "text": [
      "p-value=0.829\n",
      "относительные различия в среднем чеке: 0.287\n"
     ]
    }
   ],
   "source": [
    "#передадим критерию mannwhitneyu() данные о выручке с заказов\n",
    "print('p-value='\"{0:.3f}\".format(stats.mannwhitneyu(orders[orders['group']=='A']['revenue'], orders[orders['group']=='B']['revenue'])[1]))\n",
    "#найдём относительные различия в среднем чеке между группами\n",
    "print('относительные различия в среднем чеке: '\"{0:.3f}\".format(orders[orders['group']=='B']['revenue'].mean()/orders[orders['group']=='A']['revenue'].mean()-1))"
   ]
  },
  {
   "cell_type": "markdown",
   "metadata": {},
   "source": [
    "**Вывод:** p-value = 0.729, что больше 0.05. Значит, нулевую гипотезу о том, что статистически значимых различий в конверсии между группами нет, не отвергаем. Но при этом относительный выигрыш группы B равен 25,9% — второе число в выводе."
   ]
  },
  {
   "cell_type": "markdown",
   "metadata": {},
   "source": [
    "<a id='313'></a>\n",
    "### Считаем статистическую значимость различий в конверсии между группами по «очищенным» данным"
   ]
  },
  {
   "cell_type": "code",
   "execution_count": 29,
   "metadata": {},
   "outputs": [
    {
     "name": "stdout",
     "output_type": "stream",
     "text": [
      "Количество аномальных пользователей: 55\n"
     ]
    }
   ],
   "source": [
    "#посчитаем сколько всего аномальных пользователей (границы выявили раньше - более 2 заказов и выручка более 28000)\n",
    "usersWithManyOrders = pd.concat(\n",
    "    [\n",
    "        ordersByUsersA[ordersByUsersA['orders'] > 2]['visitor_id'],\n",
    "        ordersByUsersB[ordersByUsersB['orders'] > 2]['visitor_id'],\n",
    "    ],\n",
    "    axis=0,\n",
    ")\n",
    "usersWithExpensiveOrders = orders[orders['revenue'] > 28000]['visitor_id']\n",
    "abnormalUsers = (\n",
    "    pd.concat([usersWithManyOrders, usersWithExpensiveOrders], axis=0)\n",
    "    .drop_duplicates()\n",
    "    .sort_values()\n",
    ")\n",
    "\n",
    "print('Количество аномальных пользователей:' , abnormalUsers.shape[0]) "
   ]
  },
  {
   "cell_type": "code",
   "execution_count": 30,
   "metadata": {},
   "outputs": [],
   "source": [
    "# очистим данные \n",
    "sampleAFiltered = pd.concat(\n",
    "    [\n",
    "        ordersByUsersA[\n",
    "            np.logical_not(ordersByUsersA['visitor_id'].isin(abnormalUsers))\n",
    "        ]['orders'],\n",
    "        pd.Series(\n",
    "            0,\n",
    "            index=np.arange(\n",
    "                data['visitorsPerDateA'].sum() - len(ordersByUsersA['orders'])\n",
    "            ),\n",
    "            name='orders',\n",
    "        ),\n",
    "    ],\n",
    "    axis=0,\n",
    ")\n",
    "\n",
    "sampleBFiltered = pd.concat(\n",
    "    [\n",
    "        ordersByUsersB[\n",
    "            np.logical_not(ordersByUsersB['visitor_id'].isin(abnormalUsers))\n",
    "        ]['orders'],\n",
    "        pd.Series(\n",
    "            0,\n",
    "            index=np.arange(\n",
    "                data['visitorsPerDateB'].sum() - len(ordersByUsersB['orders'])\n",
    "            ),\n",
    "            name='orders',\n",
    "        ),\n",
    "    ],\n",
    "    axis=0,\n",
    ") "
   ]
  },
  {
   "cell_type": "code",
   "execution_count": 31,
   "metadata": {},
   "outputs": [
    {
     "name": "stdout",
     "output_type": "stream",
     "text": [
      "p-value=0.009\n",
      "относительные различия конверсии: 0.189\n"
     ]
    }
   ],
   "source": [
    "print('p-value='\"{0:.3f}\".format(stats.mannwhitneyu(sampleAFiltered, sampleBFiltered)[1]))\n",
    "print('относительные различия конверсии: '\"{0:.3f}\".format(sampleBFiltered.mean()/sampleAFiltered.mean()-1)) "
   ]
  },
  {
   "cell_type": "markdown",
   "metadata": {},
   "source": [
    "**Вывод:** p-value = 0.013, что меньше 0.05. Результаты по конверсии практически не изменились. "
   ]
  },
  {
   "cell_type": "markdown",
   "metadata": {},
   "source": [
    "<a id='314'></a>\n",
    "### Считаем статистическую значимость различий в среднем чеке заказа между группами по «очищенным» данным"
   ]
  },
  {
   "cell_type": "code",
   "execution_count": 32,
   "metadata": {},
   "outputs": [
    {
     "name": "stdout",
     "output_type": "stream",
     "text": [
      "p-value=0.762\n",
      "относительные различия в среднем чеке: -0.022\n"
     ]
    }
   ],
   "source": [
    "print('p-value='\n",
    "    \"{0:.3f}\".format(\n",
    "        stats.mannwhitneyu(\n",
    "            orders[\n",
    "                np.logical_and(\n",
    "                    orders['group'] == 'A',\n",
    "                    np.logical_not(orders['visitor_id'].isin(abnormalUsers)),\n",
    "                )\n",
    "            ]['revenue'],\n",
    "            orders[\n",
    "                np.logical_and(\n",
    "                    orders['group'] == 'B',\n",
    "                    np.logical_not(orders['visitor_id'].isin(abnormalUsers)),\n",
    "                )\n",
    "            ]['revenue'],\n",
    "        )[1]\n",
    "    )\n",
    ")\n",
    "\n",
    "print('относительные различия в среднем чеке: '\"{0:.3f}\".format(\n",
    "        orders[\n",
    "            np.logical_and(\n",
    "                orders['group'] == 'B',\n",
    "                np.logical_not(orders['visitor_id'].isin(abnormalUsers)),\n",
    "            )\n",
    "        ]['revenue'].mean()\n",
    "        / orders[\n",
    "            np.logical_and(\n",
    "                orders['group'] == 'A',\n",
    "                np.logical_not(orders['visitor_id'].isin(abnormalUsers)),\n",
    "            )\n",
    "        ]['revenue'].mean()\n",
    "        - 1\n",
    "    )\n",
    ")"
   ]
  },
  {
   "cell_type": "markdown",
   "metadata": {},
   "source": [
    "**Вывод:** p-value = 0.738, что больше 0.05. Значит, нулевую гипотезу о том, что статистически значимых различий в конверсии между группами нет, не отвергаем. Но при этом относительная разница выручки среднего чека группы B снизился до  -2% — второе число в выводе."
   ]
  },
  {
   "cell_type": "markdown",
   "metadata": {},
   "source": [
    "<a id='4'></a>\n",
    "## Выводы"
   ]
  },
  {
   "cell_type": "markdown",
   "metadata": {},
   "source": [
    "**Имеющиеся факты:**"
   ]
  },
  {
   "cell_type": "markdown",
   "metadata": {},
   "source": [
    "1. Есть статистически значимое различие по конверсии между группами как по сырым данным, так и после фильтрации аномалий.\n",
    "2. По сырым и очищенным данным нет статистически значимого различия выручки по среднему чеку между группами.    \n",
    "3. График различия конверсии между группами сообщает, что результаты группы B лучше группы A: имеют тенденцию к росту.\n",
    "4. График различия выручки среднего чека колеблется: это позволило нам найти аномалии. Сделать из этого графика определённые выводы нельзя.\n",
    "\n",
    "\n",
    "   "
   ]
  },
  {
   "cell_type": "markdown",
   "metadata": {},
   "source": [
    "**Вывод: Следует остановить тест, признать его неуспешным. Несмотря на достоверные различия в конверсии, основной целью исследования является увеличение выручки, а достоверных различий по этому показателю ни по сырым, ни по очищенным данным не наблюдается.**"
   ]
  },
  {
   "cell_type": "code",
   "execution_count": null,
   "metadata": {},
   "outputs": [],
   "source": []
  }
 ],
 "metadata": {
  "ExecuteTimeLog": [
   {
    "duration": 58,
    "start_time": "2022-05-28T08:55:24.949Z"
   },
   {
    "duration": 1741,
    "start_time": "2022-05-28T08:55:30.159Z"
   },
   {
    "duration": 219,
    "start_time": "2022-05-28T08:55:39.820Z"
   },
   {
    "duration": 30,
    "start_time": "2022-05-28T08:58:57.254Z"
   },
   {
    "duration": 37,
    "start_time": "2022-05-28T08:59:15.806Z"
   },
   {
    "duration": 3,
    "start_time": "2022-05-28T08:59:24.101Z"
   },
   {
    "duration": 11,
    "start_time": "2022-05-28T08:59:44.583Z"
   },
   {
    "duration": 13,
    "start_time": "2022-05-28T09:00:00.842Z"
   },
   {
    "duration": 12,
    "start_time": "2022-05-28T09:00:23.462Z"
   },
   {
    "duration": 22,
    "start_time": "2022-05-28T09:00:55.850Z"
   },
   {
    "duration": 17,
    "start_time": "2022-05-28T09:01:44.768Z"
   },
   {
    "duration": 24,
    "start_time": "2022-05-28T09:04:28.477Z"
   },
   {
    "duration": 3,
    "start_time": "2022-05-28T09:07:40.471Z"
   },
   {
    "duration": 12,
    "start_time": "2022-05-28T09:08:03.782Z"
   },
   {
    "duration": 4,
    "start_time": "2022-05-28T09:08:09.607Z"
   },
   {
    "duration": 18,
    "start_time": "2022-05-28T09:08:39.599Z"
   },
   {
    "duration": 16,
    "start_time": "2022-05-28T09:10:13.555Z"
   },
   {
    "duration": 4,
    "start_time": "2022-05-28T09:12:43.475Z"
   },
   {
    "duration": 17,
    "start_time": "2022-05-28T09:12:46.302Z"
   },
   {
    "duration": 19,
    "start_time": "2022-05-28T09:12:54.693Z"
   },
   {
    "duration": 4,
    "start_time": "2022-05-28T09:12:59.746Z"
   },
   {
    "duration": 17,
    "start_time": "2022-05-28T09:13:02.774Z"
   },
   {
    "duration": 31,
    "start_time": "2022-05-28T09:14:05.835Z"
   },
   {
    "duration": 6,
    "start_time": "2022-05-28T09:15:41.113Z"
   },
   {
    "duration": 24,
    "start_time": "2022-05-28T09:17:11.892Z"
   },
   {
    "duration": 20,
    "start_time": "2022-05-28T09:17:26.856Z"
   },
   {
    "duration": 20,
    "start_time": "2022-05-28T09:17:59.639Z"
   },
   {
    "duration": 1042,
    "start_time": "2022-05-28T09:19:43.606Z"
   },
   {
    "duration": 70,
    "start_time": "2022-05-28T09:19:44.650Z"
   },
   {
    "duration": 4,
    "start_time": "2022-05-28T09:19:44.721Z"
   },
   {
    "duration": 30,
    "start_time": "2022-05-28T09:19:44.727Z"
   },
   {
    "duration": 19,
    "start_time": "2022-05-28T09:19:44.759Z"
   },
   {
    "duration": 3,
    "start_time": "2022-05-28T09:19:44.780Z"
   },
   {
    "duration": 22,
    "start_time": "2022-05-28T09:19:44.785Z"
   },
   {
    "duration": 50,
    "start_time": "2022-05-28T09:19:44.808Z"
   },
   {
    "duration": 19,
    "start_time": "2022-05-28T09:31:01.903Z"
   },
   {
    "duration": 10,
    "start_time": "2022-05-28T09:32:32.565Z"
   },
   {
    "duration": 332,
    "start_time": "2022-05-28T09:34:58.710Z"
   },
   {
    "duration": 6,
    "start_time": "2022-05-28T09:36:50.458Z"
   },
   {
    "duration": 20,
    "start_time": "2022-05-28T09:40:42.011Z"
   },
   {
    "duration": 24,
    "start_time": "2022-05-28T09:43:33.178Z"
   },
   {
    "duration": 20,
    "start_time": "2022-05-28T10:00:58.629Z"
   },
   {
    "duration": 121,
    "start_time": "2022-05-28T10:33:05.397Z"
   },
   {
    "duration": 355,
    "start_time": "2022-05-28T10:34:03.586Z"
   },
   {
    "duration": 280,
    "start_time": "2022-05-28T10:35:10.485Z"
   },
   {
    "duration": 338,
    "start_time": "2022-05-28T10:36:37.143Z"
   },
   {
    "duration": 281,
    "start_time": "2022-05-28T10:44:19.493Z"
   },
   {
    "duration": 19,
    "start_time": "2022-05-28T10:46:21.808Z"
   },
   {
    "duration": 582,
    "start_time": "2022-05-28T10:48:01.263Z"
   },
   {
    "duration": 159,
    "start_time": "2022-05-28T10:48:24.811Z"
   },
   {
    "duration": 186,
    "start_time": "2022-05-28T10:53:24.202Z"
   },
   {
    "duration": 184,
    "start_time": "2022-05-28T10:53:40.002Z"
   },
   {
    "duration": 195,
    "start_time": "2022-05-28T10:53:56.203Z"
   },
   {
    "duration": 224,
    "start_time": "2022-05-28T10:55:14.020Z"
   },
   {
    "duration": 214,
    "start_time": "2022-05-28T10:55:26.664Z"
   },
   {
    "duration": 1150,
    "start_time": "2022-05-28T11:00:11.555Z"
   },
   {
    "duration": 69,
    "start_time": "2022-05-28T11:00:12.707Z"
   },
   {
    "duration": 4,
    "start_time": "2022-05-28T11:00:12.777Z"
   },
   {
    "duration": 25,
    "start_time": "2022-05-28T11:00:12.782Z"
   },
   {
    "duration": 17,
    "start_time": "2022-05-28T11:00:12.809Z"
   },
   {
    "duration": 3,
    "start_time": "2022-05-28T11:00:12.828Z"
   },
   {
    "duration": 34,
    "start_time": "2022-05-28T11:00:12.832Z"
   },
   {
    "duration": 21,
    "start_time": "2022-05-28T11:00:12.867Z"
   },
   {
    "duration": 12,
    "start_time": "2022-05-28T11:00:12.890Z"
   },
   {
    "duration": 11,
    "start_time": "2022-05-28T11:00:12.904Z"
   },
   {
    "duration": 51,
    "start_time": "2022-05-28T11:00:12.916Z"
   },
   {
    "duration": 391,
    "start_time": "2022-05-28T11:00:12.969Z"
   },
   {
    "duration": 312,
    "start_time": "2022-05-28T11:00:13.362Z"
   },
   {
    "duration": 213,
    "start_time": "2022-05-28T11:02:27.348Z"
   },
   {
    "duration": 201,
    "start_time": "2022-05-28T11:12:34.740Z"
   },
   {
    "duration": 341,
    "start_time": "2022-05-28T11:19:25.248Z"
   },
   {
    "duration": 316,
    "start_time": "2022-05-28T11:19:37.321Z"
   },
   {
    "duration": 41,
    "start_time": "2022-05-28T11:23:08.549Z"
   },
   {
    "duration": 214,
    "start_time": "2022-05-28T11:25:08.256Z"
   },
   {
    "duration": 111,
    "start_time": "2022-05-28T11:25:37.541Z"
   },
   {
    "duration": 214,
    "start_time": "2022-05-28T11:25:56.472Z"
   },
   {
    "duration": 317,
    "start_time": "2022-05-28T11:35:00.976Z"
   },
   {
    "duration": 21,
    "start_time": "2022-05-28T11:38:34.423Z"
   },
   {
    "duration": 9,
    "start_time": "2022-05-28T11:59:47.108Z"
   },
   {
    "duration": 145,
    "start_time": "2022-05-28T12:00:44.475Z"
   },
   {
    "duration": 1143,
    "start_time": "2022-05-28T12:01:18.770Z"
   },
   {
    "duration": 70,
    "start_time": "2022-05-28T12:01:19.915Z"
   },
   {
    "duration": 4,
    "start_time": "2022-05-28T12:01:19.986Z"
   },
   {
    "duration": 25,
    "start_time": "2022-05-28T12:01:19.993Z"
   },
   {
    "duration": 22,
    "start_time": "2022-05-28T12:01:20.020Z"
   },
   {
    "duration": 4,
    "start_time": "2022-05-28T12:01:20.043Z"
   },
   {
    "duration": 17,
    "start_time": "2022-05-28T12:01:20.059Z"
   },
   {
    "duration": 27,
    "start_time": "2022-05-28T12:01:20.078Z"
   },
   {
    "duration": 14,
    "start_time": "2022-05-28T12:01:20.106Z"
   },
   {
    "duration": 7,
    "start_time": "2022-05-28T12:01:20.122Z"
   },
   {
    "duration": 46,
    "start_time": "2022-05-28T12:01:20.130Z"
   },
   {
    "duration": 390,
    "start_time": "2022-05-28T12:01:20.178Z"
   },
   {
    "duration": 316,
    "start_time": "2022-05-28T12:01:20.570Z"
   },
   {
    "duration": 217,
    "start_time": "2022-05-28T12:01:20.888Z"
   },
   {
    "duration": 291,
    "start_time": "2022-05-28T12:01:21.107Z"
   },
   {
    "duration": 226,
    "start_time": "2022-05-28T12:01:21.400Z"
   },
   {
    "duration": 367,
    "start_time": "2022-05-28T12:01:21.628Z"
   },
   {
    "duration": 147,
    "start_time": "2022-05-28T12:01:21.997Z"
   },
   {
    "duration": 420,
    "start_time": "2022-05-28T12:08:47.029Z"
   },
   {
    "duration": 1110,
    "start_time": "2022-05-28T12:09:00.607Z"
   },
   {
    "duration": 72,
    "start_time": "2022-05-28T12:09:01.719Z"
   },
   {
    "duration": 3,
    "start_time": "2022-05-28T12:09:01.793Z"
   },
   {
    "duration": 41,
    "start_time": "2022-05-28T12:09:01.799Z"
   },
   {
    "duration": 35,
    "start_time": "2022-05-28T12:09:01.842Z"
   },
   {
    "duration": 3,
    "start_time": "2022-05-28T12:09:01.879Z"
   },
   {
    "duration": 29,
    "start_time": "2022-05-28T12:09:01.884Z"
   },
   {
    "duration": 47,
    "start_time": "2022-05-28T12:09:01.916Z"
   },
   {
    "duration": 10,
    "start_time": "2022-05-28T12:09:01.965Z"
   },
   {
    "duration": 10,
    "start_time": "2022-05-28T12:09:01.977Z"
   },
   {
    "duration": 25,
    "start_time": "2022-05-28T12:09:01.989Z"
   },
   {
    "duration": 408,
    "start_time": "2022-05-28T12:09:02.016Z"
   },
   {
    "duration": 320,
    "start_time": "2022-05-28T12:09:02.425Z"
   },
   {
    "duration": 220,
    "start_time": "2022-05-28T12:09:02.747Z"
   },
   {
    "duration": 312,
    "start_time": "2022-05-28T12:09:02.969Z"
   },
   {
    "duration": 230,
    "start_time": "2022-05-28T12:09:03.283Z"
   },
   {
    "duration": 316,
    "start_time": "2022-05-28T12:09:03.515Z"
   },
   {
    "duration": 120,
    "start_time": "2022-05-28T12:09:03.833Z"
   },
   {
    "duration": 1106,
    "start_time": "2022-05-28T12:10:07.992Z"
   },
   {
    "duration": 70,
    "start_time": "2022-05-28T12:10:09.100Z"
   },
   {
    "duration": 4,
    "start_time": "2022-05-28T12:10:09.171Z"
   },
   {
    "duration": 26,
    "start_time": "2022-05-28T12:10:09.177Z"
   },
   {
    "duration": 18,
    "start_time": "2022-05-28T12:10:09.204Z"
   },
   {
    "duration": 4,
    "start_time": "2022-05-28T12:10:09.223Z"
   },
   {
    "duration": 34,
    "start_time": "2022-05-28T12:10:09.228Z"
   },
   {
    "duration": 29,
    "start_time": "2022-05-28T12:10:09.264Z"
   },
   {
    "duration": 10,
    "start_time": "2022-05-28T12:10:09.294Z"
   },
   {
    "duration": 8,
    "start_time": "2022-05-28T12:10:09.306Z"
   },
   {
    "duration": 51,
    "start_time": "2022-05-28T12:10:09.315Z"
   },
   {
    "duration": 387,
    "start_time": "2022-05-28T12:10:09.367Z"
   },
   {
    "duration": 315,
    "start_time": "2022-05-28T12:10:09.756Z"
   },
   {
    "duration": 210,
    "start_time": "2022-05-28T12:10:10.072Z"
   },
   {
    "duration": 296,
    "start_time": "2022-05-28T12:10:10.284Z"
   },
   {
    "duration": 219,
    "start_time": "2022-05-28T12:10:10.582Z"
   },
   {
    "duration": 306,
    "start_time": "2022-05-28T12:10:10.803Z"
   },
   {
    "duration": 123,
    "start_time": "2022-05-28T12:10:11.110Z"
   },
   {
    "duration": 11,
    "start_time": "2022-05-28T12:10:23.771Z"
   },
   {
    "duration": 149,
    "start_time": "2022-05-28T12:12:53.800Z"
   },
   {
    "duration": 146,
    "start_time": "2022-05-28T12:13:01.407Z"
   },
   {
    "duration": 41,
    "start_time": "2022-05-28T12:14:14.371Z"
   },
   {
    "duration": 4,
    "start_time": "2022-05-28T12:16:26.086Z"
   },
   {
    "duration": 50,
    "start_time": "2022-05-28T12:20:37.247Z"
   },
   {
    "duration": 34,
    "start_time": "2022-05-28T12:21:41.661Z"
   },
   {
    "duration": 1162,
    "start_time": "2022-05-28T12:21:53.741Z"
   },
   {
    "duration": 69,
    "start_time": "2022-05-28T12:21:54.905Z"
   },
   {
    "duration": 3,
    "start_time": "2022-05-28T12:21:54.975Z"
   },
   {
    "duration": 25,
    "start_time": "2022-05-28T12:21:54.981Z"
   },
   {
    "duration": 19,
    "start_time": "2022-05-28T12:21:55.007Z"
   },
   {
    "duration": 3,
    "start_time": "2022-05-28T12:21:55.028Z"
   },
   {
    "duration": 37,
    "start_time": "2022-05-28T12:21:55.033Z"
   },
   {
    "duration": 30,
    "start_time": "2022-05-28T12:21:55.072Z"
   },
   {
    "duration": 10,
    "start_time": "2022-05-28T12:21:55.103Z"
   },
   {
    "duration": 6,
    "start_time": "2022-05-28T12:21:55.116Z"
   },
   {
    "duration": 56,
    "start_time": "2022-05-28T12:21:55.124Z"
   },
   {
    "duration": 386,
    "start_time": "2022-05-28T12:21:55.182Z"
   },
   {
    "duration": 320,
    "start_time": "2022-05-28T12:21:55.570Z"
   },
   {
    "duration": 226,
    "start_time": "2022-05-28T12:21:55.892Z"
   },
   {
    "duration": 299,
    "start_time": "2022-05-28T12:21:56.120Z"
   },
   {
    "duration": 233,
    "start_time": "2022-05-28T12:21:56.421Z"
   },
   {
    "duration": 375,
    "start_time": "2022-05-28T12:21:56.656Z"
   },
   {
    "duration": 148,
    "start_time": "2022-05-28T12:21:57.033Z"
   },
   {
    "duration": 7,
    "start_time": "2022-05-28T12:21:57.183Z"
   },
   {
    "duration": 112,
    "start_time": "2022-05-28T12:23:53.903Z"
   },
   {
    "duration": 10,
    "start_time": "2022-05-28T12:24:23.278Z"
   },
   {
    "duration": 146,
    "start_time": "2022-05-28T12:24:34.183Z"
   },
   {
    "duration": 5,
    "start_time": "2022-05-28T12:27:31.253Z"
   },
   {
    "duration": 147,
    "start_time": "2022-05-28T12:28:26.244Z"
   },
   {
    "duration": 164,
    "start_time": "2022-05-28T12:29:05.982Z"
   },
   {
    "duration": 10,
    "start_time": "2022-05-28T12:30:16.112Z"
   },
   {
    "duration": 268,
    "start_time": "2022-05-28T12:30:24.456Z"
   },
   {
    "duration": 240,
    "start_time": "2022-05-28T12:31:21.304Z"
   },
   {
    "duration": 142,
    "start_time": "2022-05-28T12:31:44.411Z"
   },
   {
    "duration": 134,
    "start_time": "2022-05-28T12:32:47.612Z"
   },
   {
    "duration": 128,
    "start_time": "2022-05-28T12:33:41.335Z"
   },
   {
    "duration": 133,
    "start_time": "2022-05-28T12:34:00.337Z"
   },
   {
    "duration": 125,
    "start_time": "2022-05-28T12:35:51.399Z"
   },
   {
    "duration": 132,
    "start_time": "2022-05-28T12:36:18.184Z"
   },
   {
    "duration": 232,
    "start_time": "2022-05-28T12:36:55.082Z"
   },
   {
    "duration": 200,
    "start_time": "2022-05-28T12:37:26.082Z"
   },
   {
    "duration": 201,
    "start_time": "2022-05-28T12:37:59.208Z"
   },
   {
    "duration": 233,
    "start_time": "2022-05-28T12:38:22.560Z"
   },
   {
    "duration": 146,
    "start_time": "2022-05-28T12:38:35.695Z"
   },
   {
    "duration": 164,
    "start_time": "2022-05-28T12:38:54.731Z"
   },
   {
    "duration": 233,
    "start_time": "2022-05-28T12:42:45.494Z"
   },
   {
    "duration": 134,
    "start_time": "2022-05-28T12:43:34.194Z"
   },
   {
    "duration": 62,
    "start_time": "2022-05-28T12:43:52.407Z"
   },
   {
    "duration": 27,
    "start_time": "2022-05-28T12:44:58.653Z"
   },
   {
    "duration": 9,
    "start_time": "2022-05-28T12:46:11.390Z"
   },
   {
    "duration": 5,
    "start_time": "2022-05-28T12:46:25.165Z"
   },
   {
    "duration": 34,
    "start_time": "2022-05-28T12:46:54.300Z"
   },
   {
    "duration": 61,
    "start_time": "2022-05-28T13:14:37.030Z"
   },
   {
    "duration": 117,
    "start_time": "2022-05-28T13:15:09.848Z"
   },
   {
    "duration": 408,
    "start_time": "2022-05-28T13:20:37.003Z"
   },
   {
    "duration": 10,
    "start_time": "2022-05-28T13:23:23.707Z"
   },
   {
    "duration": 4,
    "start_time": "2022-05-28T13:24:05.446Z"
   },
   {
    "duration": 1137,
    "start_time": "2022-05-28T13:24:09.675Z"
   },
   {
    "duration": 74,
    "start_time": "2022-05-28T13:24:10.814Z"
   },
   {
    "duration": 3,
    "start_time": "2022-05-28T13:24:10.890Z"
   },
   {
    "duration": 25,
    "start_time": "2022-05-28T13:24:10.895Z"
   },
   {
    "duration": 18,
    "start_time": "2022-05-28T13:24:10.921Z"
   },
   {
    "duration": 3,
    "start_time": "2022-05-28T13:24:10.940Z"
   },
   {
    "duration": 18,
    "start_time": "2022-05-28T13:24:10.945Z"
   },
   {
    "duration": 27,
    "start_time": "2022-05-28T13:24:10.964Z"
   },
   {
    "duration": 9,
    "start_time": "2022-05-28T13:24:10.993Z"
   },
   {
    "duration": 8,
    "start_time": "2022-05-28T13:24:11.004Z"
   },
   {
    "duration": 47,
    "start_time": "2022-05-28T13:24:11.013Z"
   },
   {
    "duration": 367,
    "start_time": "2022-05-28T13:24:11.061Z"
   },
   {
    "duration": 305,
    "start_time": "2022-05-28T13:24:11.430Z"
   },
   {
    "duration": 205,
    "start_time": "2022-05-28T13:24:11.737Z"
   },
   {
    "duration": 324,
    "start_time": "2022-05-28T13:24:11.944Z"
   },
   {
    "duration": 224,
    "start_time": "2022-05-28T13:24:12.269Z"
   },
   {
    "duration": 308,
    "start_time": "2022-05-28T13:24:12.495Z"
   },
   {
    "duration": 146,
    "start_time": "2022-05-28T13:24:12.804Z"
   },
   {
    "duration": 4,
    "start_time": "2022-05-28T13:24:12.959Z"
   },
   {
    "duration": 196,
    "start_time": "2022-05-28T13:24:12.965Z"
   },
   {
    "duration": 141,
    "start_time": "2022-05-28T13:24:13.162Z"
   },
   {
    "duration": 4,
    "start_time": "2022-05-28T13:24:13.305Z"
   },
   {
    "duration": 344,
    "start_time": "2022-05-28T13:24:13.310Z"
   },
   {
    "duration": 26,
    "start_time": "2022-05-28T13:24:13.658Z"
   },
   {
    "duration": 27,
    "start_time": "2022-05-28T13:28:15.152Z"
   },
   {
    "duration": 27,
    "start_time": "2022-05-28T13:33:29.762Z"
   },
   {
    "duration": 39,
    "start_time": "2022-05-28T13:35:54.490Z"
   },
   {
    "duration": 113,
    "start_time": "2022-05-28T13:36:03.835Z"
   },
   {
    "duration": 11,
    "start_time": "2022-05-28T13:37:54.051Z"
   },
   {
    "duration": 12,
    "start_time": "2022-05-28T13:38:04.826Z"
   },
   {
    "duration": 30,
    "start_time": "2022-05-28T13:38:12.201Z"
   },
   {
    "duration": 14,
    "start_time": "2022-05-28T13:38:14.642Z"
   },
   {
    "duration": 1318,
    "start_time": "2022-05-28T14:06:02.611Z"
   },
   {
    "duration": 79,
    "start_time": "2022-05-28T14:06:03.931Z"
   },
   {
    "duration": 5,
    "start_time": "2022-05-28T14:06:04.013Z"
   },
   {
    "duration": 32,
    "start_time": "2022-05-28T14:06:04.021Z"
   },
   {
    "duration": 32,
    "start_time": "2022-05-28T14:06:04.055Z"
   },
   {
    "duration": 4,
    "start_time": "2022-05-28T14:06:04.090Z"
   },
   {
    "duration": 32,
    "start_time": "2022-05-28T14:06:04.096Z"
   },
   {
    "duration": 58,
    "start_time": "2022-05-28T14:06:04.131Z"
   },
   {
    "duration": 10,
    "start_time": "2022-05-28T14:06:04.191Z"
   },
   {
    "duration": 14,
    "start_time": "2022-05-28T14:06:04.205Z"
   },
   {
    "duration": 54,
    "start_time": "2022-05-28T14:06:04.222Z"
   },
   {
    "duration": 418,
    "start_time": "2022-05-28T14:06:04.277Z"
   },
   {
    "duration": 348,
    "start_time": "2022-05-28T14:06:04.697Z"
   },
   {
    "duration": 242,
    "start_time": "2022-05-28T14:06:05.047Z"
   },
   {
    "duration": 314,
    "start_time": "2022-05-28T14:06:05.291Z"
   },
   {
    "duration": 250,
    "start_time": "2022-05-28T14:06:05.607Z"
   },
   {
    "duration": 369,
    "start_time": "2022-05-28T14:06:05.859Z"
   },
   {
    "duration": 162,
    "start_time": "2022-05-28T14:06:06.229Z"
   },
   {
    "duration": 5,
    "start_time": "2022-05-28T14:06:06.394Z"
   },
   {
    "duration": 193,
    "start_time": "2022-05-28T14:06:06.401Z"
   },
   {
    "duration": 219,
    "start_time": "2022-05-28T14:06:06.596Z"
   },
   {
    "duration": 6,
    "start_time": "2022-05-28T14:06:06.817Z"
   },
   {
    "duration": 431,
    "start_time": "2022-05-28T14:06:06.825Z"
   },
   {
    "duration": 50,
    "start_time": "2022-05-28T14:06:07.259Z"
   },
   {
    "duration": 15,
    "start_time": "2022-05-28T14:06:07.311Z"
   },
   {
    "duration": 518,
    "start_time": "2022-05-28T14:18:35.891Z"
   },
   {
    "duration": 8,
    "start_time": "2022-05-28T14:19:05.775Z"
   },
   {
    "duration": 60,
    "start_time": "2022-05-28T14:22:02.939Z"
   },
   {
    "duration": 9,
    "start_time": "2022-05-28T14:22:12.287Z"
   },
   {
    "duration": 30,
    "start_time": "2022-05-28T14:23:12.989Z"
   },
   {
    "duration": 556,
    "start_time": "2022-05-28T14:27:32.500Z"
   },
   {
    "duration": 9,
    "start_time": "2022-05-28T14:28:02.077Z"
   },
   {
    "duration": 28,
    "start_time": "2022-05-28T14:29:53.802Z"
   },
   {
    "duration": 28,
    "start_time": "2022-05-28T14:30:15.598Z"
   },
   {
    "duration": 15,
    "start_time": "2022-05-28T14:34:49.481Z"
   },
   {
    "duration": 16,
    "start_time": "2022-05-28T14:36:06.843Z"
   },
   {
    "duration": 59,
    "start_time": "2022-05-28T14:57:43.360Z"
   },
   {
    "duration": 31,
    "start_time": "2022-05-28T15:03:51.174Z"
   },
   {
    "duration": 1151,
    "start_time": "2022-05-28T15:04:20.571Z"
   },
   {
    "duration": 79,
    "start_time": "2022-05-28T15:04:21.724Z"
   },
   {
    "duration": 3,
    "start_time": "2022-05-28T15:04:21.805Z"
   },
   {
    "duration": 31,
    "start_time": "2022-05-28T15:04:21.810Z"
   },
   {
    "duration": 20,
    "start_time": "2022-05-28T15:04:21.843Z"
   },
   {
    "duration": 11,
    "start_time": "2022-05-28T15:04:21.865Z"
   },
   {
    "duration": 20,
    "start_time": "2022-05-28T15:04:21.877Z"
   },
   {
    "duration": 30,
    "start_time": "2022-05-28T15:04:21.900Z"
   },
   {
    "duration": 38,
    "start_time": "2022-05-28T15:04:21.932Z"
   },
   {
    "duration": 7,
    "start_time": "2022-05-28T15:04:21.973Z"
   },
   {
    "duration": 31,
    "start_time": "2022-05-28T15:04:21.982Z"
   },
   {
    "duration": 422,
    "start_time": "2022-05-28T15:04:22.014Z"
   },
   {
    "duration": 357,
    "start_time": "2022-05-28T15:04:22.437Z"
   },
   {
    "duration": 242,
    "start_time": "2022-05-28T15:04:22.797Z"
   },
   {
    "duration": 350,
    "start_time": "2022-05-28T15:04:23.041Z"
   },
   {
    "duration": 241,
    "start_time": "2022-05-28T15:04:23.393Z"
   },
   {
    "duration": 384,
    "start_time": "2022-05-28T15:04:23.636Z"
   },
   {
    "duration": 168,
    "start_time": "2022-05-28T15:04:24.022Z"
   },
   {
    "duration": 4,
    "start_time": "2022-05-28T15:04:24.191Z"
   },
   {
    "duration": 166,
    "start_time": "2022-05-28T15:04:24.196Z"
   },
   {
    "duration": 159,
    "start_time": "2022-05-28T15:04:24.364Z"
   },
   {
    "duration": 4,
    "start_time": "2022-05-28T15:04:24.524Z"
   },
   {
    "duration": 374,
    "start_time": "2022-05-28T15:04:24.530Z"
   },
   {
    "duration": 28,
    "start_time": "2022-05-28T15:04:24.906Z"
   },
   {
    "duration": 10,
    "start_time": "2022-05-28T15:04:24.935Z"
   },
   {
    "duration": 23,
    "start_time": "2022-05-28T15:04:24.946Z"
   },
   {
    "duration": 11,
    "start_time": "2022-05-28T15:04:24.971Z"
   },
   {
    "duration": 30,
    "start_time": "2022-05-28T15:04:24.984Z"
   },
   {
    "duration": 15,
    "start_time": "2022-05-28T15:04:25.016Z"
   },
   {
    "duration": 1129,
    "start_time": "2022-05-28T15:17:09.100Z"
   },
   {
    "duration": 75,
    "start_time": "2022-05-28T15:17:10.230Z"
   },
   {
    "duration": 4,
    "start_time": "2022-05-28T15:17:10.306Z"
   },
   {
    "duration": 24,
    "start_time": "2022-05-28T15:17:10.312Z"
   },
   {
    "duration": 18,
    "start_time": "2022-05-28T15:17:10.338Z"
   },
   {
    "duration": 5,
    "start_time": "2022-05-28T15:17:10.357Z"
   },
   {
    "duration": 28,
    "start_time": "2022-05-28T15:17:10.364Z"
   },
   {
    "duration": 26,
    "start_time": "2022-05-28T15:17:10.394Z"
   },
   {
    "duration": 14,
    "start_time": "2022-05-28T15:17:10.422Z"
   },
   {
    "duration": 26,
    "start_time": "2022-05-28T15:17:10.437Z"
   },
   {
    "duration": 35,
    "start_time": "2022-05-28T15:17:10.466Z"
   },
   {
    "duration": 414,
    "start_time": "2022-05-28T15:17:10.502Z"
   },
   {
    "duration": 342,
    "start_time": "2022-05-28T15:17:10.919Z"
   },
   {
    "duration": 230,
    "start_time": "2022-05-28T15:17:11.266Z"
   },
   {
    "duration": 300,
    "start_time": "2022-05-28T15:17:11.498Z"
   },
   {
    "duration": 239,
    "start_time": "2022-05-28T15:17:11.799Z"
   },
   {
    "duration": 386,
    "start_time": "2022-05-28T15:17:12.040Z"
   },
   {
    "duration": 149,
    "start_time": "2022-05-28T15:17:12.428Z"
   },
   {
    "duration": 4,
    "start_time": "2022-05-28T15:17:12.579Z"
   },
   {
    "duration": 162,
    "start_time": "2022-05-28T15:17:12.585Z"
   },
   {
    "duration": 167,
    "start_time": "2022-05-28T15:17:12.749Z"
   },
   {
    "duration": 6,
    "start_time": "2022-05-28T15:17:12.918Z"
   },
   {
    "duration": 420,
    "start_time": "2022-05-28T15:17:12.929Z"
   },
   {
    "duration": 43,
    "start_time": "2022-05-28T15:17:13.351Z"
   },
   {
    "duration": 9,
    "start_time": "2022-05-28T15:17:13.396Z"
   },
   {
    "duration": 8,
    "start_time": "2022-05-28T15:17:13.406Z"
   },
   {
    "duration": 7,
    "start_time": "2022-05-28T15:17:13.416Z"
   },
   {
    "duration": 54,
    "start_time": "2022-05-28T15:17:13.425Z"
   },
   {
    "duration": 13,
    "start_time": "2022-05-28T15:17:13.480Z"
   },
   {
    "duration": 1233,
    "start_time": "2022-05-28T15:19:11.875Z"
   },
   {
    "duration": 76,
    "start_time": "2022-05-28T15:19:13.110Z"
   },
   {
    "duration": 3,
    "start_time": "2022-05-28T15:19:13.188Z"
   },
   {
    "duration": 23,
    "start_time": "2022-05-28T15:19:13.193Z"
   },
   {
    "duration": 17,
    "start_time": "2022-05-28T15:19:13.217Z"
   },
   {
    "duration": 3,
    "start_time": "2022-05-28T15:19:13.236Z"
   },
   {
    "duration": 36,
    "start_time": "2022-05-28T15:19:13.240Z"
   },
   {
    "duration": 26,
    "start_time": "2022-05-28T15:19:13.278Z"
   },
   {
    "duration": 10,
    "start_time": "2022-05-28T15:19:13.305Z"
   },
   {
    "duration": 8,
    "start_time": "2022-05-28T15:19:13.317Z"
   },
   {
    "duration": 55,
    "start_time": "2022-05-28T15:19:13.326Z"
   },
   {
    "duration": 397,
    "start_time": "2022-05-28T15:19:13.383Z"
   },
   {
    "duration": 327,
    "start_time": "2022-05-28T15:19:13.781Z"
   },
   {
    "duration": 225,
    "start_time": "2022-05-28T15:19:14.109Z"
   },
   {
    "duration": 345,
    "start_time": "2022-05-28T15:19:14.336Z"
   },
   {
    "duration": 233,
    "start_time": "2022-05-28T15:19:14.683Z"
   },
   {
    "duration": 334,
    "start_time": "2022-05-28T15:19:14.918Z"
   },
   {
    "duration": 161,
    "start_time": "2022-05-28T15:19:15.253Z"
   },
   {
    "duration": 5,
    "start_time": "2022-05-28T15:19:15.416Z"
   },
   {
    "duration": 173,
    "start_time": "2022-05-28T15:19:15.422Z"
   },
   {
    "duration": 155,
    "start_time": "2022-05-28T15:19:15.597Z"
   },
   {
    "duration": 19,
    "start_time": "2022-05-28T15:19:15.753Z"
   },
   {
    "duration": 368,
    "start_time": "2022-05-28T15:19:15.774Z"
   },
   {
    "duration": 39,
    "start_time": "2022-05-28T15:19:16.145Z"
   },
   {
    "duration": 10,
    "start_time": "2022-05-28T15:19:16.186Z"
   },
   {
    "duration": 8,
    "start_time": "2022-05-28T15:19:16.197Z"
   },
   {
    "duration": 8,
    "start_time": "2022-05-28T15:19:16.206Z"
   },
   {
    "duration": 55,
    "start_time": "2022-05-28T15:19:16.217Z"
   },
   {
    "duration": 14,
    "start_time": "2022-05-28T15:19:16.274Z"
   },
   {
    "duration": 1127,
    "start_time": "2022-05-29T12:53:26.548Z"
   },
   {
    "duration": 73,
    "start_time": "2022-05-29T12:53:27.677Z"
   },
   {
    "duration": 3,
    "start_time": "2022-05-29T12:53:27.752Z"
   },
   {
    "duration": 28,
    "start_time": "2022-05-29T12:53:27.757Z"
   },
   {
    "duration": 18,
    "start_time": "2022-05-29T12:53:27.788Z"
   },
   {
    "duration": 3,
    "start_time": "2022-05-29T12:53:27.807Z"
   },
   {
    "duration": 21,
    "start_time": "2022-05-29T12:53:27.812Z"
   },
   {
    "duration": 60,
    "start_time": "2022-05-29T12:53:27.834Z"
   },
   {
    "duration": 14,
    "start_time": "2022-05-29T12:53:27.896Z"
   },
   {
    "duration": 15,
    "start_time": "2022-05-29T12:53:27.912Z"
   },
   {
    "duration": 41,
    "start_time": "2022-05-29T12:53:27.929Z"
   },
   {
    "duration": 430,
    "start_time": "2022-05-29T12:53:27.972Z"
   },
   {
    "duration": 313,
    "start_time": "2022-05-29T12:53:28.404Z"
   },
   {
    "duration": 209,
    "start_time": "2022-05-29T12:53:28.719Z"
   },
   {
    "duration": 288,
    "start_time": "2022-05-29T12:53:28.929Z"
   },
   {
    "duration": 231,
    "start_time": "2022-05-29T12:53:29.219Z"
   },
   {
    "duration": 360,
    "start_time": "2022-05-29T12:53:29.451Z"
   },
   {
    "duration": 150,
    "start_time": "2022-05-29T12:53:29.813Z"
   },
   {
    "duration": 5,
    "start_time": "2022-05-29T12:53:29.965Z"
   },
   {
    "duration": 180,
    "start_time": "2022-05-29T12:53:29.971Z"
   },
   {
    "duration": 158,
    "start_time": "2022-05-29T12:53:30.153Z"
   },
   {
    "duration": 5,
    "start_time": "2022-05-29T12:53:30.313Z"
   },
   {
    "duration": 372,
    "start_time": "2022-05-29T12:53:30.320Z"
   },
   {
    "duration": 29,
    "start_time": "2022-05-29T12:53:30.694Z"
   },
   {
    "duration": 11,
    "start_time": "2022-05-29T12:53:30.725Z"
   },
   {
    "duration": 21,
    "start_time": "2022-05-29T12:53:30.737Z"
   },
   {
    "duration": 24,
    "start_time": "2022-05-29T12:53:30.760Z"
   },
   {
    "duration": 28,
    "start_time": "2022-05-29T12:53:30.786Z"
   },
   {
    "duration": 15,
    "start_time": "2022-05-29T12:53:30.815Z"
   },
   {
    "duration": 61,
    "start_time": "2022-05-29T14:54:21.838Z"
   },
   {
    "duration": 1278,
    "start_time": "2022-05-29T14:54:27.292Z"
   },
   {
    "duration": 193,
    "start_time": "2022-05-29T14:54:28.572Z"
   },
   {
    "duration": 4,
    "start_time": "2022-05-29T14:54:28.766Z"
   },
   {
    "duration": 28,
    "start_time": "2022-05-29T14:54:28.772Z"
   },
   {
    "duration": 23,
    "start_time": "2022-05-29T14:54:28.801Z"
   },
   {
    "duration": 4,
    "start_time": "2022-05-29T14:54:28.826Z"
   },
   {
    "duration": 23,
    "start_time": "2022-05-29T14:54:28.831Z"
   },
   {
    "duration": 29,
    "start_time": "2022-05-29T14:54:28.856Z"
   },
   {
    "duration": 140,
    "start_time": "2022-05-29T14:54:28.887Z"
   },
   {
    "duration": 0,
    "start_time": "2022-05-29T14:54:29.030Z"
   },
   {
    "duration": 0,
    "start_time": "2022-05-29T14:54:29.032Z"
   },
   {
    "duration": 0,
    "start_time": "2022-05-29T14:54:29.033Z"
   },
   {
    "duration": 0,
    "start_time": "2022-05-29T14:54:29.034Z"
   },
   {
    "duration": 0,
    "start_time": "2022-05-29T14:54:29.036Z"
   },
   {
    "duration": 0,
    "start_time": "2022-05-29T14:54:29.041Z"
   },
   {
    "duration": 0,
    "start_time": "2022-05-29T14:54:29.042Z"
   },
   {
    "duration": 0,
    "start_time": "2022-05-29T14:54:29.042Z"
   },
   {
    "duration": 0,
    "start_time": "2022-05-29T14:54:29.043Z"
   },
   {
    "duration": 1,
    "start_time": "2022-05-29T14:54:29.044Z"
   },
   {
    "duration": 0,
    "start_time": "2022-05-29T14:54:29.046Z"
   },
   {
    "duration": 0,
    "start_time": "2022-05-29T14:54:29.048Z"
   },
   {
    "duration": 0,
    "start_time": "2022-05-29T14:54:29.049Z"
   },
   {
    "duration": 0,
    "start_time": "2022-05-29T14:54:29.050Z"
   },
   {
    "duration": 0,
    "start_time": "2022-05-29T14:54:29.051Z"
   },
   {
    "duration": 0,
    "start_time": "2022-05-29T14:54:29.052Z"
   },
   {
    "duration": 0,
    "start_time": "2022-05-29T14:54:29.053Z"
   },
   {
    "duration": 0,
    "start_time": "2022-05-29T14:54:29.054Z"
   },
   {
    "duration": 0,
    "start_time": "2022-05-29T14:54:29.055Z"
   },
   {
    "duration": 0,
    "start_time": "2022-05-29T14:54:29.056Z"
   },
   {
    "duration": 0,
    "start_time": "2022-05-29T14:54:29.057Z"
   },
   {
    "duration": 5,
    "start_time": "2022-05-29T14:55:34.806Z"
   },
   {
    "duration": 31,
    "start_time": "2022-05-29T15:00:18.156Z"
   },
   {
    "duration": 13,
    "start_time": "2022-05-29T15:00:30.168Z"
   },
   {
    "duration": 263,
    "start_time": "2022-05-29T15:01:17.596Z"
   },
   {
    "duration": 10,
    "start_time": "2022-05-29T15:02:17.355Z"
   },
   {
    "duration": 9,
    "start_time": "2022-05-29T15:04:15.391Z"
   },
   {
    "duration": 3,
    "start_time": "2022-05-29T15:05:54.046Z"
   },
   {
    "duration": 4,
    "start_time": "2022-05-29T15:06:08.169Z"
   },
   {
    "duration": 28,
    "start_time": "2022-05-29T15:07:42.998Z"
   },
   {
    "duration": 447,
    "start_time": "2022-05-29T15:09:42.255Z"
   },
   {
    "duration": 271,
    "start_time": "2022-05-29T15:10:33.497Z"
   },
   {
    "duration": 472,
    "start_time": "2022-05-29T15:11:03.413Z"
   },
   {
    "duration": 14,
    "start_time": "2022-05-29T15:11:31.656Z"
   },
   {
    "duration": 1132,
    "start_time": "2022-05-29T15:11:40.346Z"
   },
   {
    "duration": 82,
    "start_time": "2022-05-29T15:11:41.480Z"
   },
   {
    "duration": 5,
    "start_time": "2022-05-29T15:11:41.564Z"
   },
   {
    "duration": 29,
    "start_time": "2022-05-29T15:11:41.571Z"
   },
   {
    "duration": 17,
    "start_time": "2022-05-29T15:11:41.602Z"
   },
   {
    "duration": 3,
    "start_time": "2022-05-29T15:11:41.621Z"
   },
   {
    "duration": 22,
    "start_time": "2022-05-29T15:11:41.625Z"
   },
   {
    "duration": 27,
    "start_time": "2022-05-29T15:11:41.649Z"
   },
   {
    "duration": 8,
    "start_time": "2022-05-29T15:11:41.677Z"
   },
   {
    "duration": 15,
    "start_time": "2022-05-29T15:11:41.688Z"
   },
   {
    "duration": 28,
    "start_time": "2022-05-29T15:11:41.704Z"
   },
   {
    "duration": 12,
    "start_time": "2022-05-29T15:11:41.734Z"
   },
   {
    "duration": 8,
    "start_time": "2022-05-29T15:11:41.748Z"
   },
   {
    "duration": 25,
    "start_time": "2022-05-29T15:11:41.757Z"
   },
   {
    "duration": 397,
    "start_time": "2022-05-29T15:11:41.783Z"
   },
   {
    "duration": 317,
    "start_time": "2022-05-29T15:11:42.182Z"
   },
   {
    "duration": 209,
    "start_time": "2022-05-29T15:11:42.501Z"
   },
   {
    "duration": 339,
    "start_time": "2022-05-29T15:11:42.712Z"
   },
   {
    "duration": 224,
    "start_time": "2022-05-29T15:11:43.052Z"
   },
   {
    "duration": 311,
    "start_time": "2022-05-29T15:11:43.277Z"
   },
   {
    "duration": 140,
    "start_time": "2022-05-29T15:11:43.590Z"
   },
   {
    "duration": 5,
    "start_time": "2022-05-29T15:11:43.731Z"
   },
   {
    "duration": 154,
    "start_time": "2022-05-29T15:11:43.737Z"
   },
   {
    "duration": 146,
    "start_time": "2022-05-29T15:11:43.893Z"
   },
   {
    "duration": 5,
    "start_time": "2022-05-29T15:11:44.041Z"
   },
   {
    "duration": 356,
    "start_time": "2022-05-29T15:11:44.047Z"
   },
   {
    "duration": 34,
    "start_time": "2022-05-29T15:11:44.405Z"
   },
   {
    "duration": 10,
    "start_time": "2022-05-29T15:11:44.442Z"
   },
   {
    "duration": 10,
    "start_time": "2022-05-29T15:11:44.454Z"
   },
   {
    "duration": 18,
    "start_time": "2022-05-29T15:11:44.465Z"
   },
   {
    "duration": 45,
    "start_time": "2022-05-29T15:11:44.485Z"
   },
   {
    "duration": 16,
    "start_time": "2022-05-29T15:11:44.531Z"
   },
   {
    "duration": 1134,
    "start_time": "2022-05-29T15:12:35.023Z"
   },
   {
    "duration": 78,
    "start_time": "2022-05-29T15:12:36.158Z"
   },
   {
    "duration": 3,
    "start_time": "2022-05-29T15:12:36.238Z"
   },
   {
    "duration": 25,
    "start_time": "2022-05-29T15:12:36.243Z"
   },
   {
    "duration": 17,
    "start_time": "2022-05-29T15:12:36.270Z"
   },
   {
    "duration": 4,
    "start_time": "2022-05-29T15:12:36.288Z"
   },
   {
    "duration": 36,
    "start_time": "2022-05-29T15:12:36.293Z"
   },
   {
    "duration": 28,
    "start_time": "2022-05-29T15:12:36.330Z"
   },
   {
    "duration": 4,
    "start_time": "2022-05-29T15:12:36.359Z"
   },
   {
    "duration": 18,
    "start_time": "2022-05-29T15:12:36.366Z"
   },
   {
    "duration": 10,
    "start_time": "2022-05-29T15:12:36.385Z"
   },
   {
    "duration": 35,
    "start_time": "2022-05-29T15:12:36.396Z"
   },
   {
    "duration": 9,
    "start_time": "2022-05-29T15:12:36.433Z"
   },
   {
    "duration": 26,
    "start_time": "2022-05-29T15:12:36.444Z"
   },
   {
    "duration": 375,
    "start_time": "2022-05-29T15:12:36.471Z"
   },
   {
    "duration": 307,
    "start_time": "2022-05-29T15:12:36.848Z"
   },
   {
    "duration": 209,
    "start_time": "2022-05-29T15:12:37.157Z"
   },
   {
    "duration": 278,
    "start_time": "2022-05-29T15:12:37.368Z"
   },
   {
    "duration": 214,
    "start_time": "2022-05-29T15:12:37.647Z"
   },
   {
    "duration": 291,
    "start_time": "2022-05-29T15:12:37.863Z"
   },
   {
    "duration": 158,
    "start_time": "2022-05-29T15:12:38.156Z"
   },
   {
    "duration": 12,
    "start_time": "2022-05-29T15:12:38.315Z"
   },
   {
    "duration": 157,
    "start_time": "2022-05-29T15:12:38.329Z"
   },
   {
    "duration": 147,
    "start_time": "2022-05-29T15:12:38.488Z"
   },
   {
    "duration": 5,
    "start_time": "2022-05-29T15:12:38.637Z"
   },
   {
    "duration": 332,
    "start_time": "2022-05-29T15:12:38.644Z"
   },
   {
    "duration": 27,
    "start_time": "2022-05-29T15:12:38.978Z"
   },
   {
    "duration": 28,
    "start_time": "2022-05-29T15:12:39.009Z"
   },
   {
    "duration": 29,
    "start_time": "2022-05-29T15:12:39.039Z"
   },
   {
    "duration": 32,
    "start_time": "2022-05-29T15:12:39.070Z"
   },
   {
    "duration": 79,
    "start_time": "2022-05-29T15:12:39.104Z"
   },
   {
    "duration": 23,
    "start_time": "2022-05-29T15:12:39.184Z"
   },
   {
    "duration": 365,
    "start_time": "2022-05-29T15:13:10.862Z"
   },
   {
    "duration": 1173,
    "start_time": "2022-05-29T15:13:20.585Z"
   },
   {
    "duration": 78,
    "start_time": "2022-05-29T15:13:21.761Z"
   },
   {
    "duration": 4,
    "start_time": "2022-05-29T15:13:21.841Z"
   },
   {
    "duration": 24,
    "start_time": "2022-05-29T15:13:21.847Z"
   },
   {
    "duration": 26,
    "start_time": "2022-05-29T15:13:21.872Z"
   },
   {
    "duration": 4,
    "start_time": "2022-05-29T15:13:21.900Z"
   },
   {
    "duration": 33,
    "start_time": "2022-05-29T15:13:21.906Z"
   },
   {
    "duration": 27,
    "start_time": "2022-05-29T15:13:21.940Z"
   },
   {
    "duration": 8,
    "start_time": "2022-05-29T15:13:21.968Z"
   },
   {
    "duration": 13,
    "start_time": "2022-05-29T15:13:21.978Z"
   },
   {
    "duration": 41,
    "start_time": "2022-05-29T15:13:21.992Z"
   },
   {
    "duration": 9,
    "start_time": "2022-05-29T15:13:22.034Z"
   },
   {
    "duration": 9,
    "start_time": "2022-05-29T15:13:22.045Z"
   },
   {
    "duration": 26,
    "start_time": "2022-05-29T15:13:22.055Z"
   },
   {
    "duration": 391,
    "start_time": "2022-05-29T15:13:22.082Z"
   },
   {
    "duration": 317,
    "start_time": "2022-05-29T15:13:22.475Z"
   },
   {
    "duration": 212,
    "start_time": "2022-05-29T15:13:22.794Z"
   },
   {
    "duration": 312,
    "start_time": "2022-05-29T15:13:23.008Z"
   },
   {
    "duration": 222,
    "start_time": "2022-05-29T15:13:23.327Z"
   },
   {
    "duration": 336,
    "start_time": "2022-05-29T15:13:23.551Z"
   },
   {
    "duration": 171,
    "start_time": "2022-05-29T15:13:23.889Z"
   },
   {
    "duration": 6,
    "start_time": "2022-05-29T15:13:24.062Z"
   },
   {
    "duration": 159,
    "start_time": "2022-05-29T15:13:24.070Z"
   },
   {
    "duration": 140,
    "start_time": "2022-05-29T15:13:24.231Z"
   },
   {
    "duration": 4,
    "start_time": "2022-05-29T15:13:24.373Z"
   },
   {
    "duration": 341,
    "start_time": "2022-05-29T15:13:24.379Z"
   },
   {
    "duration": 30,
    "start_time": "2022-05-29T15:13:24.722Z"
   },
   {
    "duration": 11,
    "start_time": "2022-05-29T15:13:24.754Z"
   },
   {
    "duration": 8,
    "start_time": "2022-05-29T15:13:24.767Z"
   },
   {
    "duration": 15,
    "start_time": "2022-05-29T15:13:24.777Z"
   },
   {
    "duration": 57,
    "start_time": "2022-05-29T15:13:24.793Z"
   },
   {
    "duration": 13,
    "start_time": "2022-05-29T15:13:24.851Z"
   },
   {
    "duration": 1178,
    "start_time": "2022-05-29T15:16:19.100Z"
   },
   {
    "duration": 79,
    "start_time": "2022-05-29T15:16:20.280Z"
   },
   {
    "duration": 4,
    "start_time": "2022-05-29T15:16:20.361Z"
   },
   {
    "duration": 33,
    "start_time": "2022-05-29T15:16:20.367Z"
   },
   {
    "duration": 18,
    "start_time": "2022-05-29T15:16:20.401Z"
   },
   {
    "duration": 3,
    "start_time": "2022-05-29T15:16:20.421Z"
   },
   {
    "duration": 23,
    "start_time": "2022-05-29T15:16:20.425Z"
   },
   {
    "duration": 27,
    "start_time": "2022-05-29T15:16:20.450Z"
   },
   {
    "duration": 4,
    "start_time": "2022-05-29T15:16:20.479Z"
   },
   {
    "duration": 12,
    "start_time": "2022-05-29T15:16:20.485Z"
   },
   {
    "duration": 42,
    "start_time": "2022-05-29T15:16:20.498Z"
   },
   {
    "duration": 9,
    "start_time": "2022-05-29T15:16:20.542Z"
   },
   {
    "duration": 9,
    "start_time": "2022-05-29T15:16:20.553Z"
   },
   {
    "duration": 36,
    "start_time": "2022-05-29T15:16:20.564Z"
   },
   {
    "duration": 401,
    "start_time": "2022-05-29T15:16:20.602Z"
   },
   {
    "duration": 344,
    "start_time": "2022-05-29T15:16:21.005Z"
   },
   {
    "duration": 272,
    "start_time": "2022-05-29T15:16:21.351Z"
   },
   {
    "duration": 302,
    "start_time": "2022-05-29T15:16:21.627Z"
   },
   {
    "duration": 211,
    "start_time": "2022-05-29T15:16:21.931Z"
   },
   {
    "duration": 313,
    "start_time": "2022-05-29T15:16:22.144Z"
   },
   {
    "duration": 171,
    "start_time": "2022-05-29T15:16:22.458Z"
   },
   {
    "duration": 5,
    "start_time": "2022-05-29T15:16:22.630Z"
   },
   {
    "duration": 173,
    "start_time": "2022-05-29T15:16:22.637Z"
   },
   {
    "duration": 177,
    "start_time": "2022-05-29T15:16:22.812Z"
   },
   {
    "duration": 6,
    "start_time": "2022-05-29T15:16:22.991Z"
   },
   {
    "duration": 358,
    "start_time": "2022-05-29T15:16:22.998Z"
   },
   {
    "duration": 29,
    "start_time": "2022-05-29T15:16:23.358Z"
   },
   {
    "duration": 9,
    "start_time": "2022-05-29T15:16:23.390Z"
   },
   {
    "duration": 29,
    "start_time": "2022-05-29T15:16:23.401Z"
   },
   {
    "duration": 8,
    "start_time": "2022-05-29T15:16:23.432Z"
   },
   {
    "duration": 29,
    "start_time": "2022-05-29T15:16:23.442Z"
   },
   {
    "duration": 13,
    "start_time": "2022-05-29T15:16:23.473Z"
   },
   {
    "duration": 1125,
    "start_time": "2022-05-29T15:16:58.544Z"
   },
   {
    "duration": 78,
    "start_time": "2022-05-29T15:16:59.671Z"
   },
   {
    "duration": 4,
    "start_time": "2022-05-29T15:16:59.751Z"
   },
   {
    "duration": 22,
    "start_time": "2022-05-29T15:16:59.757Z"
   },
   {
    "duration": 22,
    "start_time": "2022-05-29T15:16:59.780Z"
   },
   {
    "duration": 4,
    "start_time": "2022-05-29T15:16:59.804Z"
   },
   {
    "duration": 33,
    "start_time": "2022-05-29T15:16:59.810Z"
   },
   {
    "duration": 26,
    "start_time": "2022-05-29T15:16:59.845Z"
   },
   {
    "duration": 5,
    "start_time": "2022-05-29T15:16:59.873Z"
   },
   {
    "duration": 12,
    "start_time": "2022-05-29T15:16:59.881Z"
   },
   {
    "duration": 46,
    "start_time": "2022-05-29T15:16:59.894Z"
   },
   {
    "duration": 11,
    "start_time": "2022-05-29T15:16:59.942Z"
   },
   {
    "duration": 6,
    "start_time": "2022-05-29T15:16:59.955Z"
   },
   {
    "duration": 24,
    "start_time": "2022-05-29T15:16:59.963Z"
   },
   {
    "duration": 389,
    "start_time": "2022-05-29T15:16:59.989Z"
   },
   {
    "duration": 318,
    "start_time": "2022-05-29T15:17:00.380Z"
   },
   {
    "duration": 227,
    "start_time": "2022-05-29T15:17:00.700Z"
   },
   {
    "duration": 331,
    "start_time": "2022-05-29T15:17:00.928Z"
   },
   {
    "duration": 269,
    "start_time": "2022-05-29T15:17:01.261Z"
   },
   {
    "duration": 373,
    "start_time": "2022-05-29T15:17:01.534Z"
   },
   {
    "duration": 159,
    "start_time": "2022-05-29T15:17:01.908Z"
   },
   {
    "duration": 4,
    "start_time": "2022-05-29T15:17:02.069Z"
   },
   {
    "duration": 175,
    "start_time": "2022-05-29T15:17:02.075Z"
   },
   {
    "duration": 140,
    "start_time": "2022-05-29T15:17:02.252Z"
   },
   {
    "duration": 4,
    "start_time": "2022-05-29T15:17:02.394Z"
   },
   {
    "duration": 341,
    "start_time": "2022-05-29T15:17:02.399Z"
   },
   {
    "duration": 29,
    "start_time": "2022-05-29T15:17:02.741Z"
   },
   {
    "duration": 9,
    "start_time": "2022-05-29T15:17:02.773Z"
   },
   {
    "duration": 8,
    "start_time": "2022-05-29T15:17:02.784Z"
   },
   {
    "duration": 39,
    "start_time": "2022-05-29T15:17:02.794Z"
   },
   {
    "duration": 42,
    "start_time": "2022-05-29T15:17:02.834Z"
   },
   {
    "duration": 12,
    "start_time": "2022-05-29T15:17:02.877Z"
   },
   {
    "duration": 1087,
    "start_time": "2022-05-29T15:17:52.776Z"
   },
   {
    "duration": 77,
    "start_time": "2022-05-29T15:17:53.865Z"
   },
   {
    "duration": 3,
    "start_time": "2022-05-29T15:17:53.944Z"
   },
   {
    "duration": 23,
    "start_time": "2022-05-29T15:17:53.948Z"
   },
   {
    "duration": 18,
    "start_time": "2022-05-29T15:17:53.973Z"
   },
   {
    "duration": 3,
    "start_time": "2022-05-29T15:17:53.993Z"
   },
   {
    "duration": 45,
    "start_time": "2022-05-29T15:17:53.997Z"
   },
   {
    "duration": 28,
    "start_time": "2022-05-29T15:17:54.044Z"
   },
   {
    "duration": 3,
    "start_time": "2022-05-29T15:17:54.074Z"
   },
   {
    "duration": 11,
    "start_time": "2022-05-29T15:17:54.080Z"
   },
   {
    "duration": 149,
    "start_time": "2022-05-29T15:17:54.093Z"
   },
   {
    "duration": 0,
    "start_time": "2022-05-29T15:17:54.243Z"
   },
   {
    "duration": 0,
    "start_time": "2022-05-29T15:17:54.244Z"
   },
   {
    "duration": 0,
    "start_time": "2022-05-29T15:17:54.245Z"
   },
   {
    "duration": 0,
    "start_time": "2022-05-29T15:17:54.246Z"
   },
   {
    "duration": 0,
    "start_time": "2022-05-29T15:17:54.247Z"
   },
   {
    "duration": 0,
    "start_time": "2022-05-29T15:17:54.248Z"
   },
   {
    "duration": 0,
    "start_time": "2022-05-29T15:17:54.249Z"
   },
   {
    "duration": 0,
    "start_time": "2022-05-29T15:17:54.250Z"
   },
   {
    "duration": 0,
    "start_time": "2022-05-29T15:17:54.251Z"
   },
   {
    "duration": 0,
    "start_time": "2022-05-29T15:17:54.252Z"
   },
   {
    "duration": 0,
    "start_time": "2022-05-29T15:17:54.252Z"
   },
   {
    "duration": 0,
    "start_time": "2022-05-29T15:17:54.254Z"
   },
   {
    "duration": 0,
    "start_time": "2022-05-29T15:17:54.254Z"
   },
   {
    "duration": 0,
    "start_time": "2022-05-29T15:17:54.255Z"
   },
   {
    "duration": 0,
    "start_time": "2022-05-29T15:17:54.256Z"
   },
   {
    "duration": 0,
    "start_time": "2022-05-29T15:17:54.257Z"
   },
   {
    "duration": 0,
    "start_time": "2022-05-29T15:17:54.258Z"
   },
   {
    "duration": 0,
    "start_time": "2022-05-29T15:17:54.259Z"
   },
   {
    "duration": 0,
    "start_time": "2022-05-29T15:17:54.259Z"
   },
   {
    "duration": 0,
    "start_time": "2022-05-29T15:17:54.260Z"
   },
   {
    "duration": 0,
    "start_time": "2022-05-29T15:17:54.261Z"
   },
   {
    "duration": 1430,
    "start_time": "2022-05-30T06:47:35.787Z"
   },
   {
    "duration": 218,
    "start_time": "2022-05-30T06:47:37.219Z"
   },
   {
    "duration": 3,
    "start_time": "2022-05-30T06:47:37.438Z"
   },
   {
    "duration": 25,
    "start_time": "2022-05-30T06:47:37.442Z"
   },
   {
    "duration": 21,
    "start_time": "2022-05-30T06:47:37.469Z"
   },
   {
    "duration": 11,
    "start_time": "2022-05-30T06:47:37.492Z"
   },
   {
    "duration": 17,
    "start_time": "2022-05-30T06:47:37.505Z"
   },
   {
    "duration": 37,
    "start_time": "2022-05-30T06:47:37.524Z"
   },
   {
    "duration": 7,
    "start_time": "2022-05-30T06:47:37.562Z"
   },
   {
    "duration": 29,
    "start_time": "2022-05-30T06:47:37.575Z"
   },
   {
    "duration": 12,
    "start_time": "2022-05-30T06:47:37.605Z"
   },
   {
    "duration": 10,
    "start_time": "2022-05-30T06:47:37.619Z"
   },
   {
    "duration": 8,
    "start_time": "2022-05-30T06:47:37.631Z"
   },
   {
    "duration": 47,
    "start_time": "2022-05-30T06:47:37.642Z"
   },
   {
    "duration": 363,
    "start_time": "2022-05-30T06:47:37.691Z"
   },
   {
    "duration": 358,
    "start_time": "2022-05-30T06:47:38.056Z"
   },
   {
    "duration": 261,
    "start_time": "2022-05-30T06:47:38.416Z"
   },
   {
    "duration": 332,
    "start_time": "2022-05-30T06:47:38.681Z"
   },
   {
    "duration": 206,
    "start_time": "2022-05-30T06:47:39.015Z"
   },
   {
    "duration": 300,
    "start_time": "2022-05-30T06:47:39.223Z"
   },
   {
    "duration": 186,
    "start_time": "2022-05-30T06:47:39.525Z"
   },
   {
    "duration": 3,
    "start_time": "2022-05-30T06:47:39.713Z"
   },
   {
    "duration": 195,
    "start_time": "2022-05-30T06:47:39.718Z"
   },
   {
    "duration": 159,
    "start_time": "2022-05-30T06:47:39.915Z"
   },
   {
    "duration": 9,
    "start_time": "2022-05-30T06:47:40.076Z"
   },
   {
    "duration": 333,
    "start_time": "2022-05-30T06:47:40.086Z"
   },
   {
    "duration": 44,
    "start_time": "2022-05-30T06:47:40.420Z"
   },
   {
    "duration": 14,
    "start_time": "2022-05-30T06:47:40.465Z"
   },
   {
    "duration": 14,
    "start_time": "2022-05-30T06:47:40.486Z"
   },
   {
    "duration": 8,
    "start_time": "2022-05-30T06:47:40.501Z"
   },
   {
    "duration": 38,
    "start_time": "2022-05-30T06:47:40.511Z"
   },
   {
    "duration": 16,
    "start_time": "2022-05-30T06:47:40.550Z"
   }
  ],
  "kernelspec": {
   "display_name": "Python 3",
   "language": "python",
   "name": "python3"
  },
  "language_info": {
   "codemirror_mode": {
    "name": "ipython",
    "version": 3
   },
   "file_extension": ".py",
   "mimetype": "text/x-python",
   "name": "python",
   "nbconvert_exporter": "python",
   "pygments_lexer": "ipython3",
   "version": "3.7.3"
  },
  "toc": {
   "base_numbering": 1,
   "nav_menu": {},
   "number_sections": true,
   "sideBar": true,
   "skip_h1_title": true,
   "title_cell": "Table of Contents",
   "title_sidebar": "Contents",
   "toc_cell": false,
   "toc_position": {},
   "toc_section_display": true,
   "toc_window_display": false
  }
 },
 "nbformat": 4,
 "nbformat_minor": 2
}
